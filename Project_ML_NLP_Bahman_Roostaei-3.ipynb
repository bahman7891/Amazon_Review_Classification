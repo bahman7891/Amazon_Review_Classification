{
 "cells": [
  {
   "cell_type": "code",
   "execution_count": 1,
   "metadata": {
    "collapsed": false
   },
   "outputs": [
    {
     "name": "stdout",
     "output_type": "stream",
     "text": [
      "Populating the interactive namespace from numpy and matplotlib\n"
     ]
    }
   ],
   "source": [
    "import numpy as np\n",
    "import matplotlib.pyplot as plt\n",
    "%pylab inline\n",
    "\n",
    "from sklearn.model_selection import KFold\n",
    "\n",
    "from nltk.corpus import stopwords\n",
    "from textblob import TextBlob\n",
    "\n",
    "\n",
    "from sklearn.feature_extraction.text import CountVectorizer\n",
    "from collections import defaultdict\n",
    "\n",
    "\n",
    "\n",
    "from sklearn.naive_bayes import MultinomialNB\n",
    "from sklearn.ensemble import RandomForestClassifier, RandomForestRegressor\n",
    "from sklearn.ensemble import GradientBoostingClassifier\n",
    "from sklearn.ensemble import GradientBoostingRegressor\n",
    "from sklearn.neighbors import KNeighborsClassifier\n",
    "from sklearn.neighbors import KNeighborsRegressor\n",
    "\n",
    "from sklearn.model_selection import RandomizedSearchCV"
   ]
  },
  {
   "cell_type": "markdown",
   "metadata": {},
   "source": [
    "# Rating Learning and Prediction for Amazon Product Reviews\n",
    "\n",
    "## Bahman Roostaei\n",
    "\n",
    "$\\textit{December 2016, Galvanize , San Fransisco.} $"
   ]
  },
  {
   "cell_type": "markdown",
   "metadata": {},
   "source": [
    "In this project we use the reviews of various products submitted by Amazon.com customers to understand the models that can best predict (classify) the ratings. The data are obtained from [here](http://www.cs.jhu.edu/~mdredze/datasets/sentiment/). We first use classification models and calculate the accuracy score and present the confusion matrix. Since this is a multiclass classification we group the ratings that are close to each other (4 and 5) and (1,2). Note that there is no (3) option (see below for the histogram of labels). We then use regressor models to be able to analyze the model by ROC curve."
   ]
  },
  {
   "cell_type": "code",
   "execution_count": 2,
   "metadata": {
    "collapsed": false
   },
   "outputs": [],
   "source": [
    "class review_analysis(object):\n",
    "    \n",
    "    def __init__(self,product_name,filename):\n",
    "        # instanciate the class by giving the product name or the filename in which\n",
    "        # the train and test files are.\n",
    "        self.product_name = product_name\n",
    "        self.filename = filename\n",
    "        \n",
    "    def read(self):\n",
    "        \n",
    "        # read the Amazon processed files.\n",
    "        \n",
    "        with open(self.product_name+'/'+self.filename) as f:\n",
    "            self._data = f.readlines()\n",
    "    \n",
    "        \n",
    "    \n",
    "    def process(self,pure_token = False):\n",
    "         \n",
    "        # if pure_token = True returns a lisr of single strings each containing all the \n",
    "        # tokens (no underscores) repeated in the same number as original review \n",
    "        # but stop words removed.\n",
    "        # In all cases it returns the labels as well.\n",
    "        \n",
    "        self._pure_token = pure_token\n",
    "        data = self._data\n",
    "        X = [] # X is list of dictionaries (or processed reviewes) in the selected product name.\n",
    "            \n",
    "        y = [] # y corresponds to the labels.\n",
    "        \n",
    "        for rev in data: \n",
    "            rev_dict = defaultdict(int)\n",
    "            for W in rev.split()[:-1:]:\n",
    "                key= W.split(':')[0]\n",
    "                value = int(W.split(':')[1]) \n",
    "                rev_dict[key] = value\n",
    "                \n",
    "            X.append(rev_dict)\n",
    "            label = rev.split()[-1].split(':')[1]\n",
    "            y.append(float(label))\n",
    "    \n",
    "        if pure_token:\n",
    "            stop_words = stopwords.words('English')\n",
    "            review_nostop = []\n",
    "            for review in X:\n",
    "                tokens = []\n",
    "                for key,value in review.items():\n",
    "                    key_split = key.split('_')\n",
    "                    for elem in key_split:\n",
    "                        if elem not in stop_words:\n",
    "                            for _ in range(value):\n",
    "                                tokens.append(elem)\n",
    "                review_nostop.append(' '.join(tokens))\n",
    "    \n",
    "            return review_nostop,y\n",
    "        else:\n",
    "            return X,y"
   ]
  },
  {
   "cell_type": "markdown",
   "metadata": {},
   "source": [
    "### Part 1. Data"
   ]
  },
  {
   "cell_type": "markdown",
   "metadata": {},
   "source": [
    "Data have been provided as dictionary of joined tokens (bag of bi-grams) for each review. Here we reprocess the data and convert them to a document with $\\textit{only tokens with stop words removed}$ as reflected in dictionaries with the corresponding number of times it is repeated. "
   ]
  },
  {
   "cell_type": "markdown",
   "metadata": {},
   "source": [
    "We start with the book review and their star ratings:"
   ]
  },
  {
   "cell_type": "code",
   "execution_count": 3,
   "metadata": {
    "collapsed": false
   },
   "outputs": [],
   "source": [
    "rva = review_analysis('dvd','train')\n",
    "rva.read()\n",
    "X,y = rva.process(pure_token=True)"
   ]
  },
  {
   "cell_type": "code",
   "execution_count": 4,
   "metadata": {
    "collapsed": true
   },
   "outputs": [],
   "source": [
    "rva_test = review_analysis('dvd','test')\n",
    "rva_test.read()\n",
    "X_test_original,y_test_original = rva.process(pure_token=True)"
   ]
  },
  {
   "cell_type": "markdown",
   "metadata": {},
   "source": [
    "Here is a sample of the review generated after processing. This set of tokens are not in the human meaningful order."
   ]
  },
  {
   "cell_type": "code",
   "execution_count": 5,
   "metadata": {
    "collapsed": false
   },
   "outputs": [
    {
     "data": {
      "text/plain": [
       "\"today's reality fast moving great nail wait moving selection actors exciting partly today's line partly excellent acting partly sci-fi biting acting great great casting top selection life excellent top story biting fast story actors action can't vu blu-ray today's sci-fi partly actors acting reality life sci-fi line exciting casting story line life blu-ray moving action fast action selection deja wait deja vu casting nail biting reality partly partly can't can't wait excellent exciting nail\""
      ]
     },
     "execution_count": 5,
     "metadata": {},
     "output_type": "execute_result"
    }
   ],
   "source": [
    "X[0]"
   ]
  },
  {
   "cell_type": "markdown",
   "metadata": {},
   "source": [
    "The ratings are balanced:"
   ]
  },
  {
   "cell_type": "code",
   "execution_count": 6,
   "metadata": {
    "collapsed": false
   },
   "outputs": [
    {
     "data": {
      "image/png": "[encoded data removed]",
      "text/plain": [
       "<matplotlib.figure.Figure at 0x110b37b70>"
      ]
     },
     "metadata": {},
     "output_type": "display_data"
    }
   ],
   "source": [
    "plt.hist(y)\n",
    "plt.xlabel('Ratings')\n",
    "plt.title('Training Rate Distribution');"
   ]
  },
  {
   "cell_type": "markdown",
   "metadata": {},
   "source": [
    "We also can analyze the polarity distribution of the documents and investigate how they are related to the ratings. We use TextBlob:"
   ]
  },
  {
   "cell_type": "code",
   "execution_count": 7,
   "metadata": {
    "collapsed": true
   },
   "outputs": [],
   "source": [
    "polarity = []\n",
    "for i in range(len(y)):\n",
    "    blob = TextBlob(X[i])\n",
    "    polarity.append(blob.polarity)"
   ]
  },
  {
   "cell_type": "code",
   "execution_count": 8,
   "metadata": {
    "collapsed": false
   },
   "outputs": [
    {
     "data": {
      "image/png": "[encoded data removed]",
      "text/plain": [
       "<matplotlib.figure.Figure at 0x111d8ccc0>"
      ]
     },
     "metadata": {},
     "output_type": "display_data"
    }
   ],
   "source": [
    "plt.scatter(polarity,y)\n",
    "plt.xlabel('TextBlob Polarity')\n",
    "plt.ylabel('Customer Rating')\n",
    "plt.title('Comparison of Polarity and Ratings');"
   ]
  },
  {
   "cell_type": "markdown",
   "metadata": {},
   "source": [
    "From the above we observe that the extreme ratings (1,5) cover wider range of polarities."
   ]
  },
  {
   "cell_type": "markdown",
   "metadata": {},
   "source": [
    "### Part 2. Classifiers"
   ]
  },
  {
   "cell_type": "markdown",
   "metadata": {},
   "source": [
    "We use count vectorizing. Note that Tf-idf vectorizing did not improve in any significant order our results that is why we don't present them here. The reason for this is that in understanding the sentiment of a document perhaps certain words (or bi-grams) play the most important way of recognizing the mood of the text."
   ]
  },
  {
   "cell_type": "code",
   "execution_count": 9,
   "metadata": {
    "collapsed": true
   },
   "outputs": [],
   "source": [
    "results_count = defaultdict(float)"
   ]
  },
  {
   "cell_type": "code",
   "execution_count": 10,
   "metadata": {
    "collapsed": false
   },
   "outputs": [],
   "source": [
    "kf = KFold(n_splits=5)"
   ]
  },
  {
   "cell_type": "markdown",
   "metadata": {},
   "source": [
    "Multinomial Bayes is the first model we are going to examine. We use 5-fold split to find the mean accuracy score. Here we use cross-validation over training set. The important point is that we observe that the classifier is not able to very well classify the ratings that are close to each other by 1 unit. That is why we calculate the score by 1 unit of rating difference:"
   ]
  },
  {
   "cell_type": "code",
   "execution_count": 11,
   "metadata": {
    "collapsed": false
   },
   "outputs": [],
   "source": [
    "vectorizer_c = CountVectorizer(min_df=1)\n",
    "vec_train = vectorizer_c.fit_transform(X)\n",
    "vec_test_original = vectorizer_c.transform(X_test_original)"
   ]
  },
  {
   "cell_type": "code",
   "execution_count": 12,
   "metadata": {
    "collapsed": false
   },
   "outputs": [],
   "source": [
    "score = 0\n",
    "for train_index,test_index in kf.split(vec_train):\n",
    "    X_train, X_test = vec_train[train_index], vec_train[test_index]\n",
    "    y_train, y_test = np.array(y)[train_index], np.array(y)[test_index]\n",
    "    mnb = MultinomialNB()\n",
    "    mnb.fit(X_train,y_train)\n",
    "    y_predict = mnb.predict(X_test)\n",
    "    acc = [1 for i in range(len(y_predict)) if abs(y_predict[i]-y_test[i]) <= 1]\n",
    "    score += sum(acc)/len(y_predict)\n",
    "results_count['NB'] = score/5"
   ]
  },
  {
   "cell_type": "code",
   "execution_count": 13,
   "metadata": {
    "collapsed": false
   },
   "outputs": [
    {
     "data": {
      "text/plain": [
       "defaultdict(float, {'NB': 0.73933046389287438})"
      ]
     },
     "execution_count": 13,
     "metadata": {},
     "output_type": "execute_result"
    }
   ],
   "source": [
    "results_count"
   ]
  },
  {
   "cell_type": "code",
   "execution_count": 14,
   "metadata": {
    "collapsed": true
   },
   "outputs": [],
   "source": [
    "threshold = 1\n",
    "FP = 0\n",
    "TP = 0\n",
    "FN = 0\n",
    "TN = 0\n",
    "for i in range(len(y_predict)):\n",
    "    if abs(y_predict[i] - y_test_original[i]) <= threshold and abs(y_predict[i]-5) <= threshold and abs(y_test_original[i]-5) > threshold:\n",
    "        FP += 1 \n",
    "    if abs(y_predict[i] - y_test_original[i]) <= threshold  and abs(y_predict[i]-5) <= threshold and abs(y_test_original[i]-5) <= threshold:\n",
    "        TP += 1 \n",
    "    if abs(y_predict[i] - y_test_original[i]) <= threshold  and abs(y_predict[i]-1) <= threshold and abs(y_test_original[i]-5) <= threshold:\n",
    "        FN += 1 \n",
    "    if abs(y_predict[i] - y_test_original[i]) <= threshold  and abs(y_predict[i]-1) <= threshold and abs(y_test_original[i]-1) <= threshold:\n",
    "        TN += 1    \n",
    "        \n",
    "FP = FP/len(y_predict)\n",
    "TP = TP/len(y_predict)\n",
    "FN = FN/len(y_predict)\n",
    "TN = TN/len(y_predict)"
   ]
  },
  {
   "cell_type": "code",
   "execution_count": 15,
   "metadata": {
    "collapsed": false
   },
   "outputs": [
    {
     "name": "stdout",
     "output_type": "stream",
     "text": [
      "Naive Bayes Confusion Matrix:\n",
      "TN= 0.3333333333333333 -- FP= 0.0\n",
      "FN= 0.0 -- TP= 0.18627450980392157\n"
     ]
    }
   ],
   "source": [
    "print('Naive Bayes Confusion Matrix:')\n",
    "print('TN=',TN,'--','FP=',FP)\n",
    "print('FN=',FN,'--','TP=',TP)"
   ]
  },
  {
   "cell_type": "markdown",
   "metadata": {},
   "source": [
    "We start the Random Forest and Gradient Boosting classification with default parameters and later on we use randomized grid search to find the best score:"
   ]
  },
  {
   "cell_type": "code",
   "execution_count": 16,
   "metadata": {
    "collapsed": true
   },
   "outputs": [],
   "source": [
    "rfc = RandomForestClassifier()\n",
    "rfc.fit(vec_train,y)\n",
    "y_predict = rfc.predict(vec_test_original)\n",
    "acc = [1 for i in range(len(y_predict)) if abs(y_predict[i]-y_test_original[i]) == 0]\n",
    "score = sum(acc)/len(y_predict)\n",
    "results_count['RF'] = score"
   ]
  },
  {
   "cell_type": "code",
   "execution_count": 17,
   "metadata": {
    "collapsed": false
   },
   "outputs": [
    {
     "data": {
      "text/plain": [
       "defaultdict(float, {'NB': 0.73933046389287438, 'RF': 0.98828125})"
      ]
     },
     "execution_count": 17,
     "metadata": {},
     "output_type": "execute_result"
    }
   ],
   "source": [
    "results_count"
   ]
  },
  {
   "cell_type": "code",
   "execution_count": 18,
   "metadata": {
    "collapsed": true
   },
   "outputs": [],
   "source": [
    "threshold = 1\n",
    "FP = 0\n",
    "TP = 0\n",
    "FN = 0\n",
    "TN = 0\n",
    "for i in range(len(y_predict)):\n",
    "    if abs(y_predict[i] - y_test_original[i]) <= threshold and abs(y_predict[i]-5) <= threshold and abs(y_test_original[i]-5) <= threshold:\n",
    "        FP += 1 \n",
    "    if abs(y_predict[i] - y_test_original[i]) <= threshold  and abs(y_predict[i]-5) <= threshold and abs(y_test_original[i]-5) <= threshold:\n",
    "        TP += 1 \n",
    "    if abs(y_predict[i] - y_test_original[i]) <= threshold  and abs(y_predict[i]-1) <= threshold and abs(y_test_original[i]-5) <= threshold:\n",
    "        FN += 1 \n",
    "    if abs(y_predict[i] - y_test_original[i]) <= threshold  and abs(y_predict[i]-1) <= threshold and abs(y_test_original[i]-1) <= threshold:\n",
    "        TN += 1    \n",
    "        \n",
    "FP = FP/len(y_predict)\n",
    "TP = TP/len(y_predict)\n",
    "FN = FN/len(y_predict)\n",
    "TN = TN/len(y_predict)"
   ]
  },
  {
   "cell_type": "code",
   "execution_count": 19,
   "metadata": {
    "collapsed": false
   },
   "outputs": [
    {
     "name": "stdout",
     "output_type": "stream",
     "text": [
      "Default Random Forest Confusion Matrix:\n",
      "TN= 0.5009765625 -- FP= 0.4912109375\n",
      "FN= 0.0 -- TP= 0.4912109375\n"
     ]
    }
   ],
   "source": [
    "print('Default Random Forest Confusion Matrix:')\n",
    "print('TN=',TN,'--','FP=',FP)\n",
    "print('FN=',FN,'--','TP=',TP)"
   ]
  },
  {
   "cell_type": "code",
   "execution_count": 20,
   "metadata": {
    "collapsed": false
   },
   "outputs": [],
   "source": [
    "mnb = GradientBoostingClassifier()\n",
    "mnb.fit(vec_train,y)\n",
    "y_predict = mnb.predict(vec_test_original.toarray())\n",
    "acc = [1 for i in range(len(y_predict)) if abs(y_predict[i]-y_test_original[i]) == 0]\n",
    "score = sum(acc)/len(y_predict)\n",
    "results_count['GB'] = score"
   ]
  },
  {
   "cell_type": "code",
   "execution_count": 21,
   "metadata": {
    "collapsed": false
   },
   "outputs": [
    {
     "data": {
      "text/plain": [
       "defaultdict(float,\n",
       "            {'GB': 0.923828125, 'NB': 0.73933046389287438, 'RF': 0.98828125})"
      ]
     },
     "execution_count": 21,
     "metadata": {},
     "output_type": "execute_result"
    }
   ],
   "source": [
    "results_count"
   ]
  },
  {
   "cell_type": "code",
   "execution_count": 22,
   "metadata": {
    "collapsed": true
   },
   "outputs": [],
   "source": [
    "threshold = 1\n",
    "FP = 0\n",
    "TP = 0\n",
    "FN = 0\n",
    "TN = 0\n",
    "for i in range(len(y_predict)):\n",
    "    if abs(y_predict[i] - y_test_original[i]) <= threshold and abs(y_predict[i]-5) <= threshold and abs(y_test_original[i]-1) <= threshold:\n",
    "        FP += 1 \n",
    "    if abs(y_predict[i] - y_test_original[i]) <= threshold  and abs(y_predict[i]-5) <= threshold and abs(y_test_original[i]-5) <= threshold:\n",
    "        TP += 1 \n",
    "    if abs(y_predict[i] - y_test_original[i]) <= threshold  and abs(y_predict[i]-1) <= threshold and abs(y_test_original[i]-5) <= threshold:\n",
    "        FN += 1 \n",
    "    if abs(y_predict[i] - y_test_original[i]) <= threshold  and abs(y_predict[i]-1) <= threshold and abs(y_test_original[i]-1) <= threshold:\n",
    "        TN += 1    \n",
    "        \n",
    "FP = FP/len(y_predict)\n",
    "TP = TP/len(y_predict)\n",
    "FN = FN/len(y_predict)\n",
    "TN = TN/len(y_predict)"
   ]
  },
  {
   "cell_type": "code",
   "execution_count": 23,
   "metadata": {
    "collapsed": false
   },
   "outputs": [
    {
     "name": "stdout",
     "output_type": "stream",
     "text": [
      "Default Gradient Boost Confusion Matrix:\n",
      "TN= 0.48046875 -- FP= 0.0\n",
      "FN= 0.0 -- TP= 0.482421875\n"
     ]
    }
   ],
   "source": [
    "print('Default Gradient Boost Confusion Matrix:')\n",
    "print('TN=',TN,'--','FP=',FP)\n",
    "print('FN=',FN,'--','TP=',TP)"
   ]
  },
  {
   "cell_type": "code",
   "execution_count": 24,
   "metadata": {
    "collapsed": false
   },
   "outputs": [
    {
     "name": "stdout",
     "output_type": "stream",
     "text": [
      "Fitting 3 folds for each of 10 candidates, totalling 30 fits\n"
     ]
    },
    {
     "name": "stderr",
     "output_type": "stream",
     "text": [
      "[Parallel(n_jobs=-1)]: Done  30 out of  30 | elapsed:   22.4s finished\n"
     ]
    },
    {
     "name": "stdout",
     "output_type": "stream",
     "text": [
      "best parameters: {'min_samples_split': 4, 'max_depth': None, 'bootstrap': True, 'random_state': 1, 'max_features': 'sqrt', 'n_estimators': 60}\n"
     ]
    }
   ],
   "source": [
    "random_forest_grid = {'max_depth': [3, None],\n",
    "                      'max_features': ['sqrt', 'log2', None],\n",
    "                      'min_samples_split': [1, 2, 4],\n",
    "                      'bootstrap': [True, False],\n",
    "                      'n_estimators': [10, 20, 60],\n",
    "                      'random_state': [1]}\n",
    "\n",
    "rf_gridsearch = RandomizedSearchCV(RandomForestClassifier(),\n",
    "                             random_forest_grid,\n",
    "                             n_jobs=-1,\n",
    "                             verbose=True,\n",
    "                             scoring='accuracy')\n",
    "rf_gridsearch.fit(vec_train,y)\n",
    "print(\"best parameters:\", rf_gridsearch.best_params_)\n",
    "best_rf_model = rf_gridsearch.best_estimator_"
   ]
  },
  {
   "cell_type": "code",
   "execution_count": 25,
   "metadata": {
    "collapsed": false
   },
   "outputs": [
    {
     "name": "stdout",
     "output_type": "stream",
     "text": [
      "Accuracy for best paramter for random forest: 1.0\n"
     ]
    }
   ],
   "source": [
    "y_predict = best_rf_model.predict(vec_test_original)\n",
    "acc = sum([1 for i in range(len(y_predict)) if abs(y_predict[i]-y_test_original[i])==0])/len(y_predict)\n",
    "print('Accuracy for best paramter for random forest:',acc)"
   ]
  },
  {
   "cell_type": "code",
   "execution_count": 26,
   "metadata": {
    "collapsed": true
   },
   "outputs": [],
   "source": [
    "results_count['RF_GridCV'] = acc"
   ]
  },
  {
   "cell_type": "code",
   "execution_count": 27,
   "metadata": {
    "collapsed": false
   },
   "outputs": [
    {
     "data": {
      "text/plain": [
       "defaultdict(float,\n",
       "            {'GB': 0.923828125,\n",
       "             'NB': 0.73933046389287438,\n",
       "             'RF': 0.98828125,\n",
       "             'RF_GridCV': 1.0})"
      ]
     },
     "execution_count": 27,
     "metadata": {},
     "output_type": "execute_result"
    }
   ],
   "source": [
    "results_count"
   ]
  },
  {
   "cell_type": "code",
   "execution_count": 28,
   "metadata": {
    "collapsed": true
   },
   "outputs": [],
   "source": [
    "threshold = 1\n",
    "FP = 0\n",
    "TP = 0\n",
    "FN = 0\n",
    "TN = 0\n",
    "for i in range(len(y_predict)):\n",
    "    if abs(y_predict[i] - y_test_original[i]) <= threshold and abs(y_predict[i]-5) <= threshold and abs(y_test_original[i]-1) <= threshold:\n",
    "        FP += 1 \n",
    "    if abs(y_predict[i] - y_test_original[i]) <= threshold  and abs(y_predict[i]-5) <= threshold and abs(y_test_original[i]-5) <= threshold:\n",
    "        TP += 1 \n",
    "    if abs(y_predict[i] - y_test_original[i]) <= threshold  and abs(y_predict[i]-1) <= threshold and abs(y_test_original[i]-5) <= threshold:\n",
    "        FN += 1 \n",
    "    if abs(y_predict[i] - y_test_original[i]) <= threshold  and abs(y_predict[i]-1) <= threshold and abs(y_test_original[i]-1) <= threshold:\n",
    "        TN += 1    \n",
    "        \n",
    "FP = FP/len(y_predict)\n",
    "TP = TP/len(y_predict)\n",
    "FN = FN/len(y_predict)\n",
    "TN = TN/len(y_predict)"
   ]
  },
  {
   "cell_type": "code",
   "execution_count": 31,
   "metadata": {
    "collapsed": false
   },
   "outputs": [
    {
     "name": "stdout",
     "output_type": "stream",
     "text": [
      "Best Random Forest Confusion Matrix:\n",
      "TN= 0.501953125 -- FP= 0.0\n",
      "FN= 0.0 -- TP= 0.498046875\n"
     ]
    }
   ],
   "source": [
    "print('Best Random Forest Confusion Matrix:')\n",
    "print('TN=',TN,'--','FP=',FP)\n",
    "print('FN=',FN,'--','TP=',TP)"
   ]
  },
  {
   "cell_type": "code",
   "execution_count": 32,
   "metadata": {
    "collapsed": false
   },
   "outputs": [
    {
     "name": "stdout",
     "output_type": "stream",
     "text": [
      "Fitting 3 folds for each of 10 candidates, totalling 30 fits\n"
     ]
    },
    {
     "name": "stderr",
     "output_type": "stream",
     "text": [
      "[Parallel(n_jobs=-1)]: Done  30 out of  30 | elapsed: 48.2min finished\n"
     ]
    },
    {
     "name": "stdout",
     "output_type": "stream",
     "text": [
      "best parameters: {'min_samples_split': 4, 'random_state': 1, 'max_features': 'sqrt', 'max_depth': None, 'n_estimators': 60}\n"
     ]
    }
   ],
   "source": [
    "Gboost_grid = {'max_depth': [3, None],\n",
    "                      'max_features': ['sqrt', 'log2', None],\n",
    "                      'min_samples_split': [1,4],\n",
    "                      'n_estimators': [20, 60],\n",
    "                      'random_state': [1]}\n",
    "\n",
    "Gboost_gridsearch = RandomizedSearchCV(GradientBoostingClassifier(),\n",
    "                             Gboost_grid,\n",
    "                             n_jobs=-1,\n",
    "                             verbose=True,\n",
    "                             scoring='accuracy')\n",
    "Gboost_gridsearch.fit(vec_train.toarray(),y)\n",
    "print(\"best parameters:\", Gboost_gridsearch.best_params_)\n",
    "best_Gboost_model = Gboost_gridsearch.best_estimator_"
   ]
  },
  {
   "cell_type": "code",
   "execution_count": 33,
   "metadata": {
    "collapsed": false
   },
   "outputs": [
    {
     "name": "stdout",
     "output_type": "stream",
     "text": [
      "Accuracy for best paramter for Gboost: 1.0\n"
     ]
    }
   ],
   "source": [
    "y_predict = best_Gboost_model.predict(vec_test_original.toarray())\n",
    "acc = sum([1 for i in range(len(y_predict)) if abs(y_predict[i]-y_test_original[i])==0])/len(y_predict)\n",
    "print('Accuracy for best paramter for Gboost:',acc)\n",
    "results_count['GB_GridCV'] = acc"
   ]
  },
  {
   "cell_type": "code",
   "execution_count": 34,
   "metadata": {
    "collapsed": false
   },
   "outputs": [
    {
     "data": {
      "text/plain": [
       "defaultdict(float,\n",
       "            {'GB': 0.923828125,\n",
       "             'GB_GridCV': 1.0,\n",
       "             'NB': 0.73933046389287438,\n",
       "             'RF': 0.98828125,\n",
       "             'RF_GridCV': 1.0})"
      ]
     },
     "execution_count": 34,
     "metadata": {},
     "output_type": "execute_result"
    }
   ],
   "source": [
    "results_count"
   ]
  },
  {
   "cell_type": "code",
   "execution_count": 35,
   "metadata": {
    "collapsed": true
   },
   "outputs": [],
   "source": [
    "threshold = 1\n",
    "FP = 0\n",
    "TP = 0\n",
    "FN = 0\n",
    "TN = 0\n",
    "for i in range(len(y_predict)):\n",
    "    if abs(y_predict[i] - y_test_original[i]) <= threshold and abs(y_predict[i]-5) <= threshold and abs(y_test_original[i]-1) <= threshold:\n",
    "        FP += 1 \n",
    "    if abs(y_predict[i] - y_test_original[i]) <= threshold  and abs(y_predict[i]-5) <= threshold and abs(y_test_original[i]-5) <= threshold:\n",
    "        TP += 1 \n",
    "    if abs(y_predict[i] - y_test_original[i]) <= threshold  and abs(y_predict[i]-1) <= threshold and abs(y_test_original[i]-5) <= threshold:\n",
    "        FN += 1 \n",
    "    if abs(y_predict[i] - y_test_original[i]) <= threshold  and abs(y_predict[i]-1) <= threshold and abs(y_test_original[i]-1) <= threshold:\n",
    "        TN += 1    \n",
    "        \n",
    "FP = FP/len(y_predict)\n",
    "TP = TP/len(y_predict)\n",
    "FN = FN/len(y_predict)\n",
    "TN = TN/len(y_predict)"
   ]
  },
  {
   "cell_type": "code",
   "execution_count": 36,
   "metadata": {
    "collapsed": false
   },
   "outputs": [
    {
     "name": "stdout",
     "output_type": "stream",
     "text": [
      "Best GBoost Confusion Matrix:\n",
      "TN= 0.501953125 -- FP= 0.0\n",
      "FN= 0.0 -- TP= 0.498046875\n"
     ]
    }
   ],
   "source": [
    "print('Best GBoost Confusion Matrix:')\n",
    "print('TN=',TN,'--','FP=',FP)\n",
    "print('FN=',FN,'--','TP=',TP)"
   ]
  },
  {
   "cell_type": "markdown",
   "metadata": {},
   "source": [
    "### Part 3. Regressor"
   ]
  },
  {
   "cell_type": "code",
   "execution_count": 37,
   "metadata": {
    "collapsed": true
   },
   "outputs": [],
   "source": [
    "rfc = RandomForestRegressor()\n",
    "rfc.fit(vec_train,y)\n",
    "y_predict = rfc.predict(vec_test_original)\n",
    "acc = [1 for i in range(len(y_predict)) if abs(y_predict[i]-y_test_original[i]) <= 1]\n",
    "score = sum(acc)/len(y_predict)\n",
    "results_count['RF_Reg'] = score"
   ]
  },
  {
   "cell_type": "code",
   "execution_count": 38,
   "metadata": {
    "collapsed": false
   },
   "outputs": [
    {
     "data": {
      "text/plain": [
       "defaultdict(float,\n",
       "            {'GB': 0.923828125,\n",
       "             'GB_GridCV': 1.0,\n",
       "             'NB': 0.73933046389287438,\n",
       "             'RF': 0.98828125,\n",
       "             'RF_GridCV': 1.0,\n",
       "             'RF_Reg': 0.9091796875})"
      ]
     },
     "execution_count": 38,
     "metadata": {},
     "output_type": "execute_result"
    }
   ],
   "source": [
    "results_count"
   ]
  },
  {
   "cell_type": "code",
   "execution_count": 39,
   "metadata": {
    "collapsed": true
   },
   "outputs": [],
   "source": [
    "threshold_vals = np.linspace(-6,6,100)\n",
    "FP_list = []\n",
    "TP_list = []\n",
    "for threshold in threshold_vals:\n",
    "    #threshold = 2\n",
    "    FP = 0\n",
    "    for i in range(len(y_predict)):\n",
    "        if abs(y_predict[i] - y_test_original[i]) <= threshold and abs(y_predict[i]-5) <= threshold and abs(y_test_original[i]-5) > threshold:\n",
    "            FP += 1 \n",
    "    FP = FP/len(y_predict)\n",
    "    TP = 0\n",
    "    for i in range(len(y_predict)):\n",
    "        if abs(y_predict[i] - y_test_original[i]) <= threshold  and abs(y_predict[i]-5) <= threshold and abs(y_test_original[i]-5) <= threshold:\n",
    "            TP += 1 \n",
    "    TP = TP/len(y_predict)\n",
    "    FP_list.append(FP)\n",
    "    TP_list.append(TP)"
   ]
  },
  {
   "cell_type": "code",
   "execution_count": 40,
   "metadata": {
    "collapsed": false
   },
   "outputs": [
    {
     "data": {
      "image/png": "[encoded data removed]",
      "text/plain": [
       "<matplotlib.figure.Figure at 0x111d8ceb8>"
      ]
     },
     "metadata": {},
     "output_type": "display_data"
    }
   ],
   "source": [
    "plt.scatter(FP_list,TP_list)\n",
    "plt.xlabel('FP')\n",
    "plt.ylabel('TP')\n",
    "plt.title('ROC Random Forest');"
   ]
  },
  {
   "cell_type": "code",
   "execution_count": 41,
   "metadata": {
    "collapsed": false
   },
   "outputs": [],
   "source": [
    "rfc = GradientBoostingRegressor()\n",
    "rfc.fit(vec_train,y)\n",
    "y_predict = rfc.predict(vec_test_original.toarray())\n",
    "acc = [1 for i in range(len(y_predict)) if abs(y_predict[i]-y_test_original[i]) <= 1]\n",
    "score = sum(acc)/len(y_predict)\n",
    "results_count['GB_Reg'] = score"
   ]
  },
  {
   "cell_type": "code",
   "execution_count": 42,
   "metadata": {
    "collapsed": false
   },
   "outputs": [
    {
     "data": {
      "text/plain": [
       "defaultdict(float,\n",
       "            {'GB': 0.923828125,\n",
       "             'GB_GridCV': 1.0,\n",
       "             'GB_Reg': 0.6142578125,\n",
       "             'NB': 0.73933046389287438,\n",
       "             'RF': 0.98828125,\n",
       "             'RF_GridCV': 1.0,\n",
       "             'RF_Reg': 0.9091796875})"
      ]
     },
     "execution_count": 42,
     "metadata": {},
     "output_type": "execute_result"
    }
   ],
   "source": [
    "results_count"
   ]
  },
  {
   "cell_type": "code",
   "execution_count": 43,
   "metadata": {
    "collapsed": true
   },
   "outputs": [],
   "source": [
    "threshold_vals = np.linspace(-6,6,100)\n",
    "FP_list = []\n",
    "TP_list = []\n",
    "for threshold in threshold_vals:\n",
    "    #threshold = 2\n",
    "    FP = 0\n",
    "    for i in range(len(y_predict)):\n",
    "        if abs(y_predict[i] - y_test_original[i]) <= threshold and abs(y_predict[i]-5) <= threshold and abs(y_test_original[i]-5) > threshold:\n",
    "            FP += 1 \n",
    "    FP = FP/len(y_predict)\n",
    "    TP = 0\n",
    "    for i in range(len(y_predict)):\n",
    "        if abs(y_predict[i] - y_test_original[i]) <= threshold  and abs(y_predict[i]-5) <= threshold and abs(y_test_original[i]-5) <= threshold:\n",
    "            TP += 1 \n",
    "    TP = TP/len(y_predict)\n",
    "    FP_list.append(FP)\n",
    "    TP_list.append(TP)"
   ]
  },
  {
   "cell_type": "code",
   "execution_count": 44,
   "metadata": {
    "collapsed": false
   },
   "outputs": [
    {
     "data": {
      "image/png": "[encoded data removed]",
      "text/plain": [
       "<matplotlib.figure.Figure at 0x110ee4ac8>"
      ]
     },
     "metadata": {},
     "output_type": "display_data"
    }
   ],
   "source": [
    "plt.scatter(FP_list,TP_list)\n",
    "plt.xlabel('FP')\n",
    "plt.ylabel('TP')\n",
    "plt.title('ROC GBoost');"
   ]
  },
  {
   "cell_type": "markdown",
   "metadata": {},
   "source": [
    "### Conclusion"
   ]
  },
  {
   "cell_type": "markdown",
   "metadata": {
    "collapsed": true
   },
   "source": [
    "The Boosting and Random Forest classifiers do a great job classifying the ratings with bag of words methods and simple count vectorizing. The major reason for this is that the sentiment of a text is mostly recognized by certain words better than by any long sequence of words. This can be seen as we try to use bag of bi-grams which lowers the accuracy of the model.\n",
    "\n",
    "It would be very interesting to analyze the review by clustering algorithms such topic modeling and perhaps Kmeans. Clustering will help to predict not only the sentiment of the review but also to specify the product name and by that making recommendation to the customer."
   ]
  },
  {
   "cell_type": "code",
   "execution_count": null,
   "metadata": {
    "collapsed": true
   },
   "outputs": [],
   "source": []
  }
 ],
 "metadata": {
  "kernelspec": {
   "display_name": "Python [Root]",
   "language": "python",
   "name": "Python [Root]"
  },
  "language_info": {
   "codemirror_mode": {
    "name": "ipython",
    "version": 3
   },
   "file_extension": ".py",
   "mimetype": "text/x-python",
   "name": "python",
   "nbconvert_exporter": "python",
   "pygments_lexer": "ipython3",
   "version": "3.5.2"
  }
 },
 "nbformat": 4,
 "nbformat_minor": 0
}
