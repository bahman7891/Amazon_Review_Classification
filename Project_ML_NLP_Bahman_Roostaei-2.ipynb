{
 "cells": [
  {
   "cell_type": "code",
   "execution_count": 273,
   "metadata": {
    "collapsed": false
   },
   "outputs": [
    {
     "name": "stdout",
     "output_type": "stream",
     "text": [
      "Populating the interactive namespace from numpy and matplotlib\n"
     ]
    }
   ],
   "source": [
    "import numpy as np\n",
    "import matplotlib.pyplot as plt\n",
    "%pylab inline\n",
    "\n",
    "from sklearn.model_selection import KFold\n",
    "\n",
    "from textblob import TextBlob\n",
    "from nltk.corpus import stopwords\n",
    "from sklearn.feature_extraction.text import CountVectorizer\n",
    "from collections import defaultdict\n",
    "\n",
    "\n",
    "from sklearn.naive_bayes import MultinomialNB\n",
    "from sklearn.ensemble import RandomForestClassifier, RandomForestRegressor\n",
    "from sklearn.ensemble import GradientBoostingClassifier\n",
    "from sklearn.ensemble import GradientBoostingRegressor\n",
    "from sklearn.neighbors import KNeighborsClassifier\n",
    "from sklearn.neighbors import KNeighborsRegressor\n",
    "\n",
    "from sklearn.model_selection import RandomizedSearchCV"
   ]
  },
  {
   "cell_type": "markdown",
   "metadata": {},
   "source": [
    "# Rating Learning and Prediction for Amazon Product Reviews\n",
    "\n",
    "## Bahman Roostaei\n",
    "\n",
    "$\\textit{December 2016, Galvanize , San Fransisco.} $"
   ]
  },
  {
   "cell_type": "markdown",
   "metadata": {},
   "source": [
    "In this project we use the reviews of various products submitted by Amazon.com customers to understand the models that can best predict (classify) the ratings. The data are obtained from [here](http://www.cs.jhu.edu/~mdredze/datasets/sentiment/). We first use classification models and calculate the accuracy score and present the confusion matrix. Since this is a multiclass classification we group the ratings that are close to each other (4 and 5) and (1,2). Note that there is no (3) option (see below for the histogram of labels). We then use regressor models to be able to analyze the model by ROC curve."
   ]
  },
  {
   "cell_type": "markdown",
   "metadata": {},
   "source": [
    "### Part 1. Data.  "
   ]
  },
  {
   "cell_type": "markdown",
   "metadata": {},
   "source": [
    "Data have been provided as dictionary of joined tokens (bag of bi-grams) for each review. Here we reprocess the data and convert them to a document with the same structure as reflected in dictionaries with the corresponding number of times it is repeated. "
   ]
  },
  {
   "cell_type": "code",
   "execution_count": 17,
   "metadata": {
    "collapsed": false
   },
   "outputs": [],
   "source": [
    "class review_analysis(object):\n",
    "    # This class reads and process the reviews.\n",
    "    \n",
    "    def __init__(self,product_name,filename):\n",
    "        # instanciate the class by giving the product name or the filename in which\n",
    "        # the train and test files are.\n",
    "        self.product_name = product_name\n",
    "        self.filename = filename\n",
    "        \n",
    "    def read(self):\n",
    "        \n",
    "        # read the Amazon processed files.\n",
    "        \n",
    "        with open(self.product_name+'/'+self.filename) as f:\n",
    "            self._data = f.readlines()\n",
    "    \n",
    "        \n",
    "    \n",
    "    def process(self,pure_token = False):\n",
    "         \n",
    "        # if pure_token = True returns a list of single strings each containing all the \n",
    "        # tokens (no underscores) repeated in the same number as original review \n",
    "        # but stop words removed.\n",
    "        # In all cases it returns the labels as well.\n",
    "        \n",
    "        self._pure_token = pure_token\n",
    "        data = self._data\n",
    "        X = [] # X is list of dictionaries (or processed reviewes) in the selected product name.\n",
    "            \n",
    "        y = [] # y corresponds to the labels.\n",
    "        \n",
    "        for rev in data: \n",
    "            rev_dict = defaultdict(int)\n",
    "            for W in rev.split()[:-1:]:\n",
    "                key= W.split(':')[0]\n",
    "                value = int(W.split(':')[1]) \n",
    "                rev_dict[key] = value\n",
    "                \n",
    "            X.append(rev_dict)\n",
    "            label = rev.split()[-1].split(':')[1]\n",
    "            y.append(float(label))\n",
    "    \n",
    "        if pure_token:\n",
    "            stop_words = stopwords.words('English')\n",
    "            review_nostop = []\n",
    "            for review in X:\n",
    "                tokens = []\n",
    "                for key,value in review.items():\n",
    "                    key_split = key.split('_')\n",
    "                    for elem in key_split:\n",
    "                        if elem not in stop_words:\n",
    "                            for _ in range(value):\n",
    "                                tokens.append(elem)\n",
    "                review_nostop.append(' '.join(tokens))\n",
    "    \n",
    "            return review_nostop,y\n",
    "        else:\n",
    "            return X,y"
   ]
  },
  {
   "cell_type": "markdown",
   "metadata": {},
   "source": [
    "We start with the book review and their star ratings:"
   ]
  },
  {
   "cell_type": "code",
   "execution_count": 244,
   "metadata": {
    "collapsed": false
   },
   "outputs": [],
   "source": [
    "rva = review_analysis('books','train')\n",
    "rva.read()\n",
    "X,y = rva.process(pure_token=False)"
   ]
  },
  {
   "cell_type": "code",
   "execution_count": 245,
   "metadata": {
    "collapsed": false
   },
   "outputs": [],
   "source": [
    "reviews = []\n",
    "for review in X:\n",
    "    rev = []\n",
    "    for key,value in review.items():\n",
    "        for i in range(value):\n",
    "            rev.append(key)\n",
    "    rev_joined = ' '.join(rev)\n",
    "    reviews.append(rev_joined)"
   ]
  },
  {
   "cell_type": "markdown",
   "metadata": {},
   "source": [
    "Here is a sample of the review generated after processing. The double tokens are not in the human meaningful order."
   ]
  },
  {
   "cell_type": "code",
   "execution_count": 246,
   "metadata": {
    "collapsed": false
   },
   "outputs": [
    {
     "data": {
      "text/plain": [
       "\"was_new understand_not everyone_becomes professional type_of aren't school right people_want book_is out law_school six-figure-paid field_in everyone a_six-figure-paid people wants_to when book_aren't waste in_the ridiculous becomes or is the_professionals law_clerk six-figure-paid_lawyer not_everyone want_to shadows become most_people ridiculous_it of_law understand even_when in in professional_most field be waste_of who_wants the_law law law law law want money give school_but type of_money wants right_out who in_this of_lawyer a a a a or_law money_even this this is_ridiculous break professionals_in even me_a to to law_professional it it me only_be lawyer_right but to_only the_type was it_was a_break become_i guy most book book the the the guy_who becomes_a clerk_give law_field out_of to_become this_book this_book i_understand lawyer_or clerk only be_a when_it it_shadows new a_guy aren't_the not but_this lawyer lawyer of of of shadows_a professionals i a_law give_me\""
      ]
     },
     "execution_count": 246,
     "metadata": {},
     "output_type": "execute_result"
    }
   ],
   "source": [
    "reviews[0]"
   ]
  },
  {
   "cell_type": "code",
   "execution_count": 248,
   "metadata": {
    "collapsed": true
   },
   "outputs": [],
   "source": [
    "# data copied to X.\n",
    "X = reviews"
   ]
  },
  {
   "cell_type": "markdown",
   "metadata": {},
   "source": [
    "Below we can observe that the ratings are balanced."
   ]
  },
  {
   "cell_type": "code",
   "execution_count": 175,
   "metadata": {
    "collapsed": false
   },
   "outputs": [
    {
     "data": {
      "image/png": "[encoded data removed]",
      "text/plain": [
       "<matplotlib.figure.Figure at 0x12240bc50>"
      ]
     },
     "metadata": {},
     "output_type": "display_data"
    }
   ],
   "source": [
    "plt.hist(y)\n",
    "plt.xlabel('Star Rating')\n",
    "plt.title('Book Star Rating Distribution');"
   ]
  },
  {
   "cell_type": "markdown",
   "metadata": {},
   "source": [
    "We also can analyze the polarity distribution of the documents and investigate how they are related to the ratings. We use TextBlob:"
   ]
  },
  {
   "cell_type": "code",
   "execution_count": 276,
   "metadata": {
    "collapsed": false
   },
   "outputs": [],
   "source": [
    "polarity = []\n",
    "for i in range(len(y)):\n",
    "    blob = TextBlob(X[i])\n",
    "    polarity.append(blob.polarity)"
   ]
  },
  {
   "cell_type": "code",
   "execution_count": 279,
   "metadata": {
    "collapsed": false
   },
   "outputs": [
    {
     "data": {
      "image/png": "[encoded data removed]",
      "text/plain": [
       "<matplotlib.figure.Figure at 0x112230e10>"
      ]
     },
     "metadata": {},
     "output_type": "display_data"
    }
   ],
   "source": [
    "plt.scatter(polarity,y)\n",
    "plt.xlabel('TextBlob Polarity')\n",
    "plt.ylabel('Customer Rating')\n",
    "plt.title('Comparison of Polarity and Ratings');"
   ]
  },
  {
   "cell_type": "markdown",
   "metadata": {},
   "source": [
    "From the above we observe that the extreme ratings (1,5) cover wider range of polarities."
   ]
  },
  {
   "cell_type": "markdown",
   "metadata": {},
   "source": [
    "### Part 2. Classifiers:"
   ]
  },
  {
   "cell_type": "markdown",
   "metadata": {},
   "source": [
    "We use count vectorizing. Note that Tf-idf vectorizing did not improve in any significant order our results that is why we don't present them here. The reason for this is that in understanding the sentiment of a document perhaps certain words (or bi-grams) play the most important way of recognizing the mood of the text."
   ]
  },
  {
   "cell_type": "code",
   "execution_count": 249,
   "metadata": {
    "collapsed": false
   },
   "outputs": [],
   "source": [
    "vectorizer = CountVectorizer(min_df=1)\n",
    "vec_train = vectorizer.fit_transform(X)"
   ]
  },
  {
   "cell_type": "code",
   "execution_count": 250,
   "metadata": {
    "collapsed": true
   },
   "outputs": [],
   "source": [
    "# Here we process the separate test file:\n",
    "rva_test = review_analysis('books','test')\n",
    "rva_test.read()\n",
    "X_test,y_test_original = rva_test.process(pure_token=False)"
   ]
  },
  {
   "cell_type": "code",
   "execution_count": 251,
   "metadata": {
    "collapsed": true
   },
   "outputs": [],
   "source": [
    "reviews = []\n",
    "for review in X_test:\n",
    "    rev = []\n",
    "    for key,value in review.items():\n",
    "        for i in range(value):\n",
    "            rev.append(key)\n",
    "    rev_joined = ' '.join(rev)\n",
    "    reviews.append(rev_joined)\n",
    "X_test = reviews   "
   ]
  },
  {
   "cell_type": "code",
   "execution_count": 252,
   "metadata": {
    "collapsed": false
   },
   "outputs": [],
   "source": [
    "# vectorizing the test file:\n",
    "vec_test_original = vectorizer.transform(X_test)"
   ]
  },
  {
   "cell_type": "code",
   "execution_count": 253,
   "metadata": {
    "collapsed": true
   },
   "outputs": [],
   "source": [
    "# This dictionary shows the accuracy for each model.\n",
    "results_count = defaultdict(float)"
   ]
  },
  {
   "cell_type": "code",
   "execution_count": 254,
   "metadata": {
    "collapsed": true
   },
   "outputs": [],
   "source": [
    "kf = KFold(n_splits=5)"
   ]
  },
  {
   "cell_type": "markdown",
   "metadata": {},
   "source": [
    "Multinomial Bayes is the first model we are going to examine. We use 5-fold split to find the mean accuracy score. Here we use cross-validation over training set. The important point is that we observe that the classifier is not able to very well classify the ratings that are close to each other by 1 unit. That is why we calculate the score by 1 unit of rating difference:"
   ]
  },
  {
   "cell_type": "code",
   "execution_count": 255,
   "metadata": {
    "collapsed": false
   },
   "outputs": [],
   "source": [
    "score = 0\n",
    "for train_index,test_index in kf.split(vec_train):\n",
    "    X_train, X_test = vec_train[train_index], vec_train[test_index]\n",
    "    y_train, y_test = np.array(y)[train_index], np.array(y)[test_index]\n",
    "    mnb = MultinomialNB()\n",
    "    mnb.fit(X_train,y_train)\n",
    "    y_predict = mnb.predict(X_test)\n",
    "    acc = [1 for i in range(len(y_predict)) if abs(y_predict[i]-y_test[i]) <= 1]\n",
    "    score += sum(acc)/len(y_predict)\n",
    "results_count['NB'] = score/5"
   ]
  },
  {
   "cell_type": "code",
   "execution_count": 256,
   "metadata": {
    "collapsed": false
   },
   "outputs": [
    {
     "data": {
      "text/plain": [
       "defaultdict(float, {'NB': 0.77930892636774984})"
      ]
     },
     "execution_count": 256,
     "metadata": {},
     "output_type": "execute_result"
    }
   ],
   "source": [
    "results_count"
   ]
  },
  {
   "cell_type": "code",
   "execution_count": 257,
   "metadata": {
    "collapsed": false
   },
   "outputs": [
    {
     "name": "stdout",
     "output_type": "stream",
     "text": [
      "Naive Bayes Confusion Matrix:\n",
      "TN= 0.18181818181818182 -- FP= 0.0\n",
      "FN= 0.0 -- TP= 0.33181818181818185\n"
     ]
    }
   ],
   "source": [
    "threshold = 1\n",
    "FP = 0\n",
    "TP = 0\n",
    "FN = 0\n",
    "TN = 0\n",
    "for i in range(len(y_predict)):\n",
    "    if abs(y_predict[i] - y_test_original[i]) <= threshold and abs(y_predict[i]-5) <= threshold and abs(y_test_original[i]-1) <= threshold:\n",
    "        FP += 1 \n",
    "    if abs(y_predict[i] - y_test_original[i]) <= threshold  and abs(y_predict[i]-5) <= threshold and abs(y_test_original[i]-5) <= threshold:\n",
    "        TP += 1 \n",
    "    if abs(y_predict[i] - y_test_original[i]) <= threshold  and abs(y_predict[i]-1) <= threshold and abs(y_test_original[i]-5) <= threshold:\n",
    "        FN += 1 \n",
    "    if abs(y_predict[i] - y_test_original[i]) <= threshold  and abs(y_predict[i]-1) <= threshold and abs(y_test_original[i]-1) <= threshold:\n",
    "        TN += 1            \n",
    "FP = FP/len(y_predict)\n",
    "TP = TP/len(y_predict)\n",
    "FN = FN/len(y_predict)\n",
    "TN = TN/len(y_predict)\n",
    "print('Naive Bayes Confusion Matrix:')\n",
    "print('TN=',TN,'--','FP=',FP)\n",
    "print('FN=',FN,'--','TP=',TP)"
   ]
  },
  {
   "cell_type": "markdown",
   "metadata": {},
   "source": [
    "We start the Random Forest and Gradient Boosting classification with default parameters and later on we use randomized grid search to find the best score:"
   ]
  },
  {
   "cell_type": "code",
   "execution_count": 258,
   "metadata": {
    "collapsed": false
   },
   "outputs": [],
   "source": [
    "rfc = RandomForestClassifier()\n",
    "rfc.fit(vec_train,y)\n",
    "y_predict = rfc.predict(vec_test_original)\n",
    "acc = [1 for i in range(len(y_predict)) if abs(y_predict[i]-y_test_original[i]) <= 1]\n",
    "score = sum(acc)/len(y_predict)\n",
    "results_count['RF'] = score"
   ]
  },
  {
   "cell_type": "code",
   "execution_count": 259,
   "metadata": {
    "collapsed": false
   },
   "outputs": [
    {
     "data": {
      "text/plain": [
       "defaultdict(float, {'NB': 0.77930892636774984, 'RF': 0.65068181818181814})"
      ]
     },
     "execution_count": 259,
     "metadata": {},
     "output_type": "execute_result"
    }
   ],
   "source": [
    "results_count"
   ]
  },
  {
   "cell_type": "code",
   "execution_count": 262,
   "metadata": {
    "collapsed": false
   },
   "outputs": [
    {
     "name": "stdout",
     "output_type": "stream",
     "text": [
      "Default Random Forest Confusion Matrix:\n",
      "TN= 0.36227272727272725 -- FP= 0.0\n",
      "FN= 0.0 -- TP= 0.2884090909090909\n"
     ]
    }
   ],
   "source": [
    "threshold = 1\n",
    "FP = 0\n",
    "TP = 0\n",
    "FN = 0\n",
    "TN = 0\n",
    "for i in range(len(y_predict)):\n",
    "    if abs(y_predict[i] - y_test_original[i]) <= threshold and abs(y_predict[i]-5) <= threshold and abs(y_test_original[i]-1) <= threshold:\n",
    "        FP += 1 \n",
    "    if abs(y_predict[i] - y_test_original[i]) <= threshold  and abs(y_predict[i]-5) <= threshold and abs(y_test_original[i]-5) <= threshold:\n",
    "        TP += 1 \n",
    "    if abs(y_predict[i] - y_test_original[i]) <= threshold  and abs(y_predict[i]-1) <= threshold and abs(y_test_original[i]-5) <= threshold:\n",
    "        FN += 1 \n",
    "    if abs(y_predict[i] - y_test_original[i]) <= threshold  and abs(y_predict[i]-1) <= threshold and abs(y_test_original[i]-1) <= threshold:\n",
    "        TN += 1            \n",
    "FP = FP/len(y_predict)\n",
    "TP = TP/len(y_predict)\n",
    "FN = FN/len(y_predict)\n",
    "TN = TN/len(y_predict)\n",
    "print('Default Random Forest Confusion Matrix:')\n",
    "print('TN=',TN,'--','FP=',FP)\n",
    "print('FN=',FN,'--','TP=',TP)"
   ]
  },
  {
   "cell_type": "code",
   "execution_count": 263,
   "metadata": {
    "collapsed": false
   },
   "outputs": [],
   "source": [
    "mnb = GradientBoostingClassifier()\n",
    "mnb.fit(vec_train,y)\n",
    "y_predict = mnb.predict(vec_test_original.toarray())\n",
    "acc = [1 for i in range(len(y_predict)) if abs(y_predict[i]-y_test_original[i]) <= 1]\n",
    "score = sum(acc)/len(y_predict)\n",
    "results_count['GB'] = score"
   ]
  },
  {
   "cell_type": "code",
   "execution_count": 264,
   "metadata": {
    "collapsed": false
   },
   "outputs": [
    {
     "data": {
      "text/plain": [
       "defaultdict(float,\n",
       "            {'GB': 0.72522727272727272,\n",
       "             'NB': 0.77930892636774984,\n",
       "             'RF': 0.65068181818181814})"
      ]
     },
     "execution_count": 264,
     "metadata": {},
     "output_type": "execute_result"
    }
   ],
   "source": [
    "results_count"
   ]
  },
  {
   "cell_type": "code",
   "execution_count": 265,
   "metadata": {
    "collapsed": false
   },
   "outputs": [
    {
     "name": "stdout",
     "output_type": "stream",
     "text": [
      "Default GBoost Confusion Matrix:\n",
      "TN= 0.3484090909090909 -- FP= 0.0\n",
      "FN= 0.0 -- TP= 0.37681818181818183\n"
     ]
    }
   ],
   "source": [
    "threshold = 1\n",
    "FP = 0\n",
    "TP = 0\n",
    "FN = 0\n",
    "TN = 0\n",
    "for i in range(len(y_predict)):\n",
    "    if abs(y_predict[i] - y_test_original[i]) <= threshold and abs(y_predict[i]-5) <= threshold and abs(y_test_original[i]-1) <= threshold:\n",
    "        FP += 1 \n",
    "    if abs(y_predict[i] - y_test_original[i]) <= threshold  and abs(y_predict[i]-5) <= threshold and abs(y_test_original[i]-5) <= threshold:\n",
    "        TP += 1 \n",
    "    if abs(y_predict[i] - y_test_original[i]) <= threshold  and abs(y_predict[i]-1) <= threshold and abs(y_test_original[i]-5) <= threshold:\n",
    "        FN += 1 \n",
    "    if abs(y_predict[i] - y_test_original[i]) <= threshold  and abs(y_predict[i]-1) <= threshold and abs(y_test_original[i]-1) <= threshold:\n",
    "        TN += 1            \n",
    "FP = FP/len(y_predict)\n",
    "TP = TP/len(y_predict)\n",
    "FN = FN/len(y_predict)\n",
    "TN = TN/len(y_predict)\n",
    "print('Default GBoost Confusion Matrix:')\n",
    "print('TN=',TN,'--','FP=',FP)\n",
    "print('FN=',FN,'--','TP=',TP)"
   ]
  },
  {
   "cell_type": "markdown",
   "metadata": {},
   "source": [
    "The randomized grid search does a good job in finding the best classifier:"
   ]
  },
  {
   "cell_type": "code",
   "execution_count": 189,
   "metadata": {
    "collapsed": false
   },
   "outputs": [
    {
     "name": "stdout",
     "output_type": "stream",
     "text": [
      "Fitting 3 folds for each of 10 candidates, totalling 30 fits\n"
     ]
    },
    {
     "name": "stderr",
     "output_type": "stream",
     "text": [
      "[Parallel(n_jobs=-1)]: Done  30 out of  30 | elapsed:  4.5min finished\n"
     ]
    },
    {
     "name": "stdout",
     "output_type": "stream",
     "text": [
      "best parameters: {'random_state': 1, 'n_estimators': 60, 'max_depth': None, 'min_samples_split': 1, 'bootstrap': True, 'max_features': None}\n"
     ]
    }
   ],
   "source": [
    "random_forest_grid = {'max_depth': [3, None],\n",
    "                      'max_features': ['sqrt', 'log2', None],\n",
    "                      'min_samples_split': [1, 2, 4],\n",
    "                      'bootstrap': [True, False],\n",
    "                      'n_estimators': [10, 20, 60],\n",
    "                      'random_state': [1]}\n",
    "\n",
    "rf_gridsearch = RandomizedSearchCV(RandomForestClassifier(),\n",
    "                             random_forest_grid,\n",
    "                             n_jobs=-1,\n",
    "                             verbose=True,\n",
    "                             scoring='accuracy')\n",
    "rf_gridsearch.fit(vec_train,y)\n",
    "print(\"best parameters:\", rf_gridsearch.best_params_)\n",
    "best_rf_model = rf_gridsearch.best_estimator_"
   ]
  },
  {
   "cell_type": "code",
   "execution_count": 266,
   "metadata": {
    "collapsed": false
   },
   "outputs": [
    {
     "name": "stdout",
     "output_type": "stream",
     "text": [
      "Accuracy for best paramter for random forest: 0.729772727273\n"
     ]
    }
   ],
   "source": [
    "y_predict = best_rf_model.predict(vec_test_original)\n",
    "acc = sum([1 for i in range(len(y_predict)) if abs(y_predict[i]-y_test_original[i]) <= 1])/len(y_predict)\n",
    "print('Accuracy for best paramter for random forest:',acc)\n",
    "results_count['RF_GridCV'] = score"
   ]
  },
  {
   "cell_type": "code",
   "execution_count": 267,
   "metadata": {
    "collapsed": false
   },
   "outputs": [
    {
     "data": {
      "text/plain": [
       "defaultdict(float,\n",
       "            {'GB': 0.72522727272727272,\n",
       "             'NB': 0.77930892636774984,\n",
       "             'RF': 0.65068181818181814,\n",
       "             'RF_GridCV': 0.72522727272727272})"
      ]
     },
     "execution_count": 267,
     "metadata": {},
     "output_type": "execute_result"
    }
   ],
   "source": [
    "results_count"
   ]
  },
  {
   "cell_type": "code",
   "execution_count": 268,
   "metadata": {
    "collapsed": false
   },
   "outputs": [
    {
     "name": "stdout",
     "output_type": "stream",
     "text": [
      "Best Random Forest Confusion Matrix:\n",
      "TN= 0.35409090909090907 -- FP= 0.0\n",
      "FN= 0.0 -- TP= 0.3756818181818182\n"
     ]
    }
   ],
   "source": [
    "threshold = 1\n",
    "FP = 0\n",
    "TP = 0\n",
    "FN = 0\n",
    "TN = 0\n",
    "for i in range(len(y_predict)):\n",
    "    if abs(y_predict[i] - y_test_original[i]) <= threshold and abs(y_predict[i]-5) <= threshold and abs(y_test_original[i]-1) <= threshold:\n",
    "        FP += 1 \n",
    "    if abs(y_predict[i] - y_test_original[i]) <= threshold  and abs(y_predict[i]-5) <= threshold and abs(y_test_original[i]-5) <= threshold:\n",
    "        TP += 1 \n",
    "    if abs(y_predict[i] - y_test_original[i]) <= threshold  and abs(y_predict[i]-1) <= threshold and abs(y_test_original[i]-5) <= threshold:\n",
    "        FN += 1 \n",
    "    if abs(y_predict[i] - y_test_original[i]) <= threshold  and abs(y_predict[i]-1) <= threshold and abs(y_test_original[i]-1) <= threshold:\n",
    "        TN += 1            \n",
    "FP = FP/len(y_predict)\n",
    "TP = TP/len(y_predict)\n",
    "FN = FN/len(y_predict)\n",
    "TN = TN/len(y_predict)\n",
    "print('Best Random Forest Confusion Matrix:')\n",
    "print('TN=',TN,'--','FP=',FP)\n",
    "print('FN=',FN,'--','TP=',TP)"
   ]
  },
  {
   "cell_type": "markdown",
   "metadata": {},
   "source": [
    "### Part 3. Regressors:"
   ]
  },
  {
   "cell_type": "code",
   "execution_count": 196,
   "metadata": {
    "collapsed": true
   },
   "outputs": [],
   "source": [
    "rfc = RandomForestRegressor()\n",
    "rfc.fit(vec_train,y)\n",
    "y_predict = rfc.predict(vec_test_original)\n",
    "acc = [1 for i in range(len(y_predict)) if abs(y_predict[i]-y_test_original[i]) <= 1]\n",
    "score = sum(acc)/len(y_predict)\n",
    "results_count['RF_Reg'] = score"
   ]
  },
  {
   "cell_type": "code",
   "execution_count": 197,
   "metadata": {
    "collapsed": false
   },
   "outputs": [
    {
     "data": {
      "text/plain": [
       "defaultdict(float,\n",
       "            {'GB': 0.72750000000000004,\n",
       "             'NB': 0.77930892636774984,\n",
       "             'RF': 0.64068181818181813,\n",
       "             'RF_GridCV': 0.72750000000000004,\n",
       "             'RF_Reg': 0.50659090909090909})"
      ]
     },
     "execution_count": 197,
     "metadata": {},
     "output_type": "execute_result"
    }
   ],
   "source": [
    "results_count"
   ]
  },
  {
   "cell_type": "code",
   "execution_count": 242,
   "metadata": {
    "collapsed": false
   },
   "outputs": [],
   "source": [
    "threshold_vals = np.linspace(-6,6,100)\n",
    "FP_list = []\n",
    "TP_list = []\n",
    "for threshold in threshold_vals:\n",
    "    #threshold = 2\n",
    "    FP = 0\n",
    "    for i in range(len(y_predict)):\n",
    "        if abs(y_predict[i] - y_test_original[i]) <= threshold and abs(y_predict[i]-5) <= threshold and abs(y_test_original[i]-5) > threshold:\n",
    "            FP += 1 \n",
    "    FP = FP/len(y_predict)\n",
    "    TP = 0\n",
    "    for i in range(len(y_predict)):\n",
    "        if abs(y_predict[i] - y_test_original[i]) <= threshold  and abs(y_predict[i]-5) <= threshold and abs(y_test_original[i]-5) <= threshold:\n",
    "            TP += 1 \n",
    "    TP = TP/len(y_predict)\n",
    "    FP_list.append(FP)\n",
    "    TP_list.append(TP)"
   ]
  },
  {
   "cell_type": "code",
   "execution_count": 243,
   "metadata": {
    "collapsed": false
   },
   "outputs": [
    {
     "data": {
      "image/png": "[encoded data removed]",
      "text/plain": [
       "<matplotlib.figure.Figure at 0x11a56e4e0>"
      ]
     },
     "metadata": {},
     "output_type": "display_data"
    }
   ],
   "source": [
    "plt.scatter(FP_list,TP_list)\n",
    "plt.xlabel('FP')\n",
    "plt.ylabel('TP')\n",
    "plt.title('ROC Random Forest');"
   ]
  },
  {
   "cell_type": "markdown",
   "metadata": {},
   "source": [
    "Note here that ROC curve is not smoothly behaving since we are analyzing multiclass regression."
   ]
  },
  {
   "cell_type": "code",
   "execution_count": 269,
   "metadata": {
    "collapsed": true
   },
   "outputs": [],
   "source": [
    "rfc = GradientBoostingRegressor()\n",
    "rfc.fit(vec_train,y)\n",
    "y_predict = rfc.predict(vec_test_original.toarray())\n",
    "acc = [1 for i in range(len(y_predict)) if abs(y_predict[i]-y_test_original[i]) <= 1]\n",
    "score = sum(acc)/len(y_predict)\n",
    "results_count['GB_Reg'] = score"
   ]
  },
  {
   "cell_type": "code",
   "execution_count": 270,
   "metadata": {
    "collapsed": true
   },
   "outputs": [],
   "source": [
    "threshold_vals = np.linspace(-6,6,100)\n",
    "FP_list = []\n",
    "TP_list = []\n",
    "for threshold in threshold_vals:\n",
    "    #threshold = 2\n",
    "    FP = 0\n",
    "    for i in range(len(y_predict)):\n",
    "        if abs(y_predict[i] - y_test_original[i]) <= threshold and abs(y_predict[i]-5) <= threshold and abs(y_test_original[i]-5) > threshold:\n",
    "            FP += 1 \n",
    "    FP = FP/len(y_predict)\n",
    "    TP = 0\n",
    "    for i in range(len(y_predict)):\n",
    "        if abs(y_predict[i] - y_test_original[i]) <= threshold  and abs(y_predict[i]-5) <= threshold and abs(y_test_original[i]-5) <= threshold:\n",
    "            TP += 1 \n",
    "    TP = TP/len(y_predict)\n",
    "    FP_list.append(FP)\n",
    "    TP_list.append(TP)"
   ]
  },
  {
   "cell_type": "code",
   "execution_count": 271,
   "metadata": {
    "collapsed": false
   },
   "outputs": [
    {
     "data": {
      "image/png": "[encoded data removed]",
      "text/plain": [
       "<matplotlib.figure.Figure at 0x11b1efa20>"
      ]
     },
     "metadata": {},
     "output_type": "display_data"
    }
   ],
   "source": [
    "plt.scatter(FP_list,TP_list)\n",
    "plt.xlabel('FP')\n",
    "plt.ylabel('TP')\n",
    "plt.title('ROC Gradient Boost');"
   ]
  },
  {
   "cell_type": "markdown",
   "metadata": {},
   "source": [
    "### Conclusion"
   ]
  },
  {
   "cell_type": "markdown",
   "metadata": {},
   "source": [
    "The Boosting and Random Forest classifiers do a great job classifying the ratings with bag of words methods and simple count vectorizing. The major reason for this is that the sentiment of a text is mostly recognized by certain words better than by any long sequence of words. This can be seen as we try to use bag of bi-grams which lowers the accuracy of the model.\n",
    "\n",
    "It would be very interesting to analyze the review by clustering algorithms such topic modeling and perhaps Kmeans. Clustering will help to predict not only the sentiment of the review but also to specify the product name and by that making recommendation to the customer."
   ]
  },
  {
   "cell_type": "code",
   "execution_count": null,
   "metadata": {
    "collapsed": true
   },
   "outputs": [],
   "source": []
  }
 ],
 "metadata": {
  "kernelspec": {
   "display_name": "Python [Root]",
   "language": "python",
   "name": "Python [Root]"
  },
  "language_info": {
   "codemirror_mode": {
    "name": "ipython",
    "version": 3
   },
   "file_extension": ".py",
   "mimetype": "text/x-python",
   "name": "python",
   "nbconvert_exporter": "python",
   "pygments_lexer": "ipython3",
   "version": "3.5.2"
  }
 },
 "nbformat": 4,
 "nbformat_minor": 0
}
