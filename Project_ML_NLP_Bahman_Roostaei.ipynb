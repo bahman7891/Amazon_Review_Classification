{
 "cells": [
  {
   "cell_type": "code",
   "execution_count": 338,
   "metadata": {
    "collapsed": false
   },
   "outputs": [
    {
     "name": "stdout",
     "output_type": "stream",
     "text": [
      "Populating the interactive namespace from numpy and matplotlib\n"
     ]
    }
   ],
   "source": [
    "import numpy as np\n",
    "import matplotlib.pyplot as plt\n",
    "%pylab inline\n",
    "\n",
    "from sklearn.model_selection import KFold\n",
    "\n",
    "from nltk.corpus import stopwords\n",
    "from textblob import TextBlob\n",
    "\n",
    "\n",
    "from sklearn.feature_extraction.text import CountVectorizer\n",
    "from collections import defaultdict\n",
    "\n",
    "\n",
    "\n",
    "from sklearn.naive_bayes import MultinomialNB\n",
    "from sklearn.ensemble import RandomForestClassifier, RandomForestRegressor\n",
    "from sklearn.ensemble import GradientBoostingClassifier\n",
    "from sklearn.ensemble import GradientBoostingRegressor\n",
    "from sklearn.neighbors import KNeighborsClassifier\n",
    "from sklearn.neighbors import KNeighborsRegressor\n",
    "\n",
    "from sklearn.model_selection import RandomizedSearchCV"
   ]
  },
  {
   "cell_type": "markdown",
   "metadata": {},
   "source": [
    "# Rating Learning and Prediction for Amazon Product Reviews\n",
    "\n",
    "## Bahman Roostaei\n",
    "\n",
    "$\\textit{December 2016, Galvanize , San Fransisco.} $"
   ]
  },
  {
   "cell_type": "markdown",
   "metadata": {},
   "source": [
    "In this project we use the reviews of various products submitted by Amazon.com customers to understand the models that can best predict (classify) the ratings. Understanding the ratings that a given text indicates helps for businesses to ultimately be able to collect the most relevant and most helpful reviews to their products. \n",
    "\n",
    "The data are obtained from [here](http://www.cs.jhu.edu/~mdredze/datasets/sentiment/). The data includes about more than a 1000 review text for products like DVD's and Books and Kitchen tools. The data have been mostly cleaned and processed into dictionary of bi-grams. We reprocess the data and convert it to token sets as well and analyze both the tokens and also the original format. \n",
    "\n",
    "We first use classification models and calculate the accuracy score and present the confusion matrix. Since this is a multiclass classification we group the ratings that are close to each other (4 and 5) and (1,2). Note that there is no rating 3 option (see below for the histogram of labels). We then use regressor models to be able to analyze the model by ROC curve."
   ]
  },
  {
   "cell_type": "code",
   "execution_count": 107,
   "metadata": {
    "collapsed": false
   },
   "outputs": [],
   "source": [
    "class review_analysis(object):\n",
    "    \n",
    "    def __init__(self,product_name,filename):\n",
    "        # instanciate the class by giving the product name or the filename in which\n",
    "        # the train and test files are.\n",
    "        self.product_name = product_name\n",
    "        self.filename = filename\n",
    "        \n",
    "    def read(self):\n",
    "        \n",
    "        # read the Amazon processed files.\n",
    "        \n",
    "        with open(self.product_name+'/'+self.filename) as f:\n",
    "            self._data = f.readlines()\n",
    "    \n",
    "        \n",
    "    \n",
    "    def process(self,pure_token = False):\n",
    "         \n",
    "        # if pure_token = True returns a lisr of single strings each containing all the \n",
    "        # tokens (no underscores) repeated in the same number as original review \n",
    "        # but stop words removed.\n",
    "        # In all cases it returns the labels as well.\n",
    "        \n",
    "        self._pure_token = pure_token\n",
    "        data = self._data\n",
    "        X = [] # X is list of dictionaries (or processed reviewes) in the selected product name.\n",
    "            \n",
    "        y = [] # y corresponds to the labels.\n",
    "        \n",
    "        for rev in data: \n",
    "            rev_dict = defaultdict(int)\n",
    "            for W in rev.split()[:-1:]:\n",
    "                key= W.split(':')[0]\n",
    "                value = int(W.split(':')[1]) \n",
    "                rev_dict[key] = value\n",
    "                \n",
    "            X.append(rev_dict)\n",
    "            label = rev.split()[-1].split(':')[1]\n",
    "            y.append(float(label))\n",
    "    \n",
    "        if pure_token:\n",
    "            stop_words = stopwords.words('English')\n",
    "            review_nostop = []\n",
    "            for review in X:\n",
    "                tokens = []\n",
    "                for key,value in review.items():\n",
    "                    key_split = key.split('_')\n",
    "                    for elem in key_split:\n",
    "                        if elem not in stop_words:\n",
    "                            for _ in range(value):\n",
    "                                tokens.append(elem)\n",
    "                review_nostop.append(' '.join(tokens))\n",
    "    \n",
    "            return review_nostop,y\n",
    "        else:\n",
    "            return X,y"
   ]
  },
  {
   "cell_type": "markdown",
   "metadata": {},
   "source": [
    "### Part 1. Data"
   ]
  },
  {
   "cell_type": "markdown",
   "metadata": {},
   "source": [
    "Data have been provided as dictionary of joined tokens (bag of bi-grams) for each review. Here we reprocess the data and convert them to a document with $\\textit{only tokens with stop words removed}$ as reflected in dictionaries with the corresponding number of times it is repeated. "
   ]
  },
  {
   "cell_type": "markdown",
   "metadata": {},
   "source": [
    "We start with the book review and their star ratings:"
   ]
  },
  {
   "cell_type": "code",
   "execution_count": 346,
   "metadata": {
    "collapsed": false
   },
   "outputs": [],
   "source": [
    "rva = review_analysis('books','train')\n",
    "rva.read()\n",
    "X,y = rva.process(pure_token=True)"
   ]
  },
  {
   "cell_type": "code",
   "execution_count": 347,
   "metadata": {
    "collapsed": true
   },
   "outputs": [],
   "source": [
    "rva_test = review_analysis('books','test')\n",
    "rva_test.read()\n",
    "X_test_original,y_test_original = rva.process(pure_token=True)"
   ]
  },
  {
   "cell_type": "markdown",
   "metadata": {},
   "source": [
    "Here is a sample of the review generated after processing. This set of tokens are not in the human meaningful order."
   ]
  },
  {
   "cell_type": "code",
   "execution_count": 348,
   "metadata": {
    "collapsed": false
   },
   "outputs": [
    {
     "data": {
      "text/plain": [
       "\"field book type six-figure-paid people money waste type break money even become wants law field school professional law clerk book book understand want right ridiculous money law guy people guy everyone new book aren't clerk give law school guy new right shadows clerk everyone becomes lawyer lawyer six-figure-paid professionals wants becomes field want professionals wants people want law law law law ridiculous law professional six-figure-paid lawyer law understand shadows give waste aren't become break school become aren't give even even shadows ridiculous lawyer right becomes law everyone professional lawyer type understand law lawyer book book professionals\""
      ]
     },
     "execution_count": 348,
     "metadata": {},
     "output_type": "execute_result"
    }
   ],
   "source": [
    "X[0]"
   ]
  },
  {
   "cell_type": "markdown",
   "metadata": {},
   "source": [
    "The ratings are balanced:"
   ]
  },
  {
   "cell_type": "code",
   "execution_count": 349,
   "metadata": {
    "collapsed": false
   },
   "outputs": [
    {
     "data": {
      "image/png": "[encoded data removed]",
      "text/plain": [
       "<matplotlib.figure.Figure at 0x1120993c8>"
      ]
     },
     "metadata": {},
     "output_type": "display_data"
    }
   ],
   "source": [
    "plt.hist(y)\n",
    "plt.xlabel('Ratings')\n",
    "plt.title('Training Rate Distribution');"
   ]
  },
  {
   "cell_type": "markdown",
   "metadata": {},
   "source": [
    "We also can analyze the polarity distribution of the documents and investigate how they are related to the ratings. We use TextBlob:"
   ]
  },
  {
   "cell_type": "code",
   "execution_count": 350,
   "metadata": {
    "collapsed": true
   },
   "outputs": [],
   "source": [
    "polarity = []\n",
    "for i in range(len(y)):\n",
    "    blob = TextBlob(X[i])\n",
    "    polarity.append(blob.polarity)"
   ]
  },
  {
   "cell_type": "code",
   "execution_count": 351,
   "metadata": {
    "collapsed": false
   },
   "outputs": [
    {
     "data": {
      "image/png": "[encoded data removed]",
      "text/plain": [
       "<matplotlib.figure.Figure at 0x115757eb8>"
      ]
     },
     "metadata": {},
     "output_type": "display_data"
    }
   ],
   "source": [
    "plt.scatter(polarity,y)\n",
    "plt.xlabel('TextBlob Polarity')\n",
    "plt.ylabel('Customer Rating')\n",
    "plt.title('Comparison of Polarity and Ratings');"
   ]
  },
  {
   "cell_type": "markdown",
   "metadata": {},
   "source": [
    "From the above we observe that the extreme ratings (1,5) cover wider range of polarities."
   ]
  },
  {
   "cell_type": "markdown",
   "metadata": {},
   "source": [
    "### Part 2. Classifiers"
   ]
  },
  {
   "cell_type": "markdown",
   "metadata": {},
   "source": [
    "We use count vectorizing. Note that Tf-idf vectorizing did not improve in any significant order our results that is why we don't present them here. The reason for this is that in understanding the sentiment of a document perhaps certain words (or bi-grams) play the most important way of recognizing the mood of the text."
   ]
  },
  {
   "cell_type": "code",
   "execution_count": 352,
   "metadata": {
    "collapsed": true
   },
   "outputs": [],
   "source": [
    "results_count = defaultdict(float)"
   ]
  },
  {
   "cell_type": "code",
   "execution_count": 353,
   "metadata": {
    "collapsed": false
   },
   "outputs": [],
   "source": [
    "kf = KFold(n_splits=5)"
   ]
  },
  {
   "cell_type": "markdown",
   "metadata": {},
   "source": [
    "Multinomial Bayes is the first model we are going to examine. We use 5-fold split to find the mean accuracy score. Here we use cross-validation over training set. The important point is that we observe that the classifier is not able to very well classify the ratings that are close to each other by 1 unit. That is why we calculate the score by 1 unit of rating difference:"
   ]
  },
  {
   "cell_type": "code",
   "execution_count": 378,
   "metadata": {
    "collapsed": false
   },
   "outputs": [],
   "source": [
    "vectorizer_c = CountVectorizer(min_df=1)\n",
    "vec_train = vectorizer_c.fit_transform(X)\n",
    "vec_test_original = vectorizer_c.transform(X_test_original)"
   ]
  },
  {
   "cell_type": "code",
   "execution_count": 383,
   "metadata": {
    "collapsed": false
   },
   "outputs": [],
   "source": [
    "score = 0\n",
    "for train_index,test_index in kf.split(vec_train):\n",
    "    X_train, X_test = vec_train[train_index], vec_train[test_index]\n",
    "    y_train, y_test = np.array(y)[train_index], np.array(y)[test_index]\n",
    "    mnb = MultinomialNB()\n",
    "    mnb.fit(X_train,y_train)\n",
    "    y_predict = mnb.predict(X_test)\n",
    "    acc = [1 for i in range(len(y_predict)) if abs(y_predict[i]-y_test[i]) <= 1]\n",
    "    score += sum(acc)/len(y_predict)\n",
    "results_count['NB'] = score/5"
   ]
  },
  {
   "cell_type": "code",
   "execution_count": 356,
   "metadata": {
    "collapsed": false
   },
   "outputs": [
    {
     "data": {
      "text/plain": [
       "defaultdict(float, {'NB': 0.7365939942410531})"
      ]
     },
     "execution_count": 356,
     "metadata": {},
     "output_type": "execute_result"
    }
   ],
   "source": [
    "results_count"
   ]
  },
  {
   "cell_type": "code",
   "execution_count": 384,
   "metadata": {
    "collapsed": false
   },
   "outputs": [
    {
     "name": "stdout",
     "output_type": "stream",
     "text": [
      "Naive Bayes Confusion Matrix:\n",
      "TN= 0.20909090909090908 -- FP= 0.2590909090909091\n",
      "FN= 0.2681818181818182 -- TP= 0.2636363636363636\n",
      "F1 score: 0.4999999999999999\n"
     ]
    }
   ],
   "source": [
    "threshold = 1\n",
    "FP = 0\n",
    "TP = 0\n",
    "FN = 0\n",
    "TN = 0\n",
    "for i in range(len(y_predict)):\n",
    "    if abs(y_predict[i] - y_test_original[i]) > threshold and abs(y_predict[i]-5) <= threshold and abs(y_test_original[i]-1) <= threshold:\n",
    "        FP += 1 \n",
    "    if abs(y_predict[i] - y_test_original[i]) <= threshold  and abs(y_predict[i]-5) <= threshold and abs(y_test_original[i]-5) <= threshold:\n",
    "        TP += 1 \n",
    "    if abs(y_predict[i] - y_test_original[i]) > threshold  and abs(y_predict[i]-1) <= threshold and abs(y_test_original[i]-5) <= threshold:\n",
    "        FN += 1 \n",
    "    if abs(y_predict[i] - y_test_original[i]) <= threshold  and abs(y_predict[i]-1) <= threshold and abs(y_test_original[i]-1) <= threshold:\n",
    "        TN += 1    \n",
    "        \n",
    "FP = FP/len(y_predict)\n",
    "TP = TP/len(y_predict)\n",
    "FN = FN/len(y_predict)\n",
    "TN = TN/len(y_predict)\n",
    "print('Naive Bayes Confusion Matrix:')\n",
    "print('TN=',TN,'--','FP=',FP)\n",
    "print('FN=',FN,'--','TP=',TP)\n",
    "print('F1 score:',2*TP/(2*TP+FP+FN))"
   ]
  },
  {
   "cell_type": "markdown",
   "metadata": {},
   "source": [
    "We start the Random Forest and Gradient Boosting classification with default parameters and later on we use randomized grid search to find the best score:"
   ]
  },
  {
   "cell_type": "code",
   "execution_count": 385,
   "metadata": {
    "collapsed": true
   },
   "outputs": [],
   "source": [
    "rfc = RandomForestClassifier()\n",
    "rfc.fit(vec_train,y)\n",
    "y_predict = rfc.predict(vec_test_original)\n",
    "acc = [1 for i in range(len(y_predict)) if abs(y_predict[i]-y_test_original[i]) == 0]\n",
    "score = sum(acc)/len(y_predict)\n",
    "results_count['RF'] = score"
   ]
  },
  {
   "cell_type": "code",
   "execution_count": 361,
   "metadata": {
    "collapsed": false
   },
   "outputs": [
    {
     "data": {
      "text/plain": [
       "defaultdict(float, {'NB': 0.7365939942410531, 'RF': 0.98728428701180748})"
      ]
     },
     "execution_count": 361,
     "metadata": {},
     "output_type": "execute_result"
    }
   ],
   "source": [
    "results_count"
   ]
  },
  {
   "cell_type": "code",
   "execution_count": 386,
   "metadata": {
    "collapsed": false
   },
   "outputs": [
    {
     "name": "stdout",
     "output_type": "stream",
     "text": [
      "Naive Bayes Confusion Matrix:\n",
      "TN= 0.4841053587647593 -- FP= 0.0\n",
      "FN= 0.008174386920980926 -- TP= 0.5077202543142597\n",
      "F1 score: 0.9920141969831411\n"
     ]
    }
   ],
   "source": [
    "threshold = 1\n",
    "FP = 0\n",
    "TP = 0\n",
    "FN = 0\n",
    "TN = 0\n",
    "for i in range(len(y_predict)):\n",
    "    if abs(y_predict[i] - y_test_original[i]) > threshold and abs(y_predict[i]-5) <= threshold and abs(y_test_original[i]-1) <= threshold:\n",
    "        FP += 1 \n",
    "    if abs(y_predict[i] - y_test_original[i]) <= threshold  and abs(y_predict[i]-5) <= threshold and abs(y_test_original[i]-5) <= threshold:\n",
    "        TP += 1 \n",
    "    if abs(y_predict[i] - y_test_original[i]) > threshold  and abs(y_predict[i]-1) <= threshold and abs(y_test_original[i]-5) <= threshold:\n",
    "        FN += 1 \n",
    "    if abs(y_predict[i] - y_test_original[i]) <= threshold  and abs(y_predict[i]-1) <= threshold and abs(y_test_original[i]-1) <= threshold:\n",
    "        TN += 1    \n",
    "        \n",
    "FP = FP/len(y_predict)\n",
    "TP = TP/len(y_predict)\n",
    "FN = FN/len(y_predict)\n",
    "TN = TN/len(y_predict)\n",
    "print('Naive Bayes Confusion Matrix:')\n",
    "print('TN=',TN,'--','FP=',FP)\n",
    "print('FN=',FN,'--','TP=',TP)\n",
    "print('F1 score:',2*TP/(2*TP+FP+FN))"
   ]
  },
  {
   "cell_type": "code",
   "execution_count": 387,
   "metadata": {
    "collapsed": false
   },
   "outputs": [],
   "source": [
    "mnb = GradientBoostingClassifier()\n",
    "mnb.fit(vec_train,y)\n",
    "y_predict = mnb.predict(vec_test_original.toarray())\n",
    "acc = [1 for i in range(len(y_predict)) if abs(y_predict[i]-y_test_original[i]) == 0]\n",
    "score = sum(acc)/len(y_predict)\n",
    "results_count['GB'] = score"
   ]
  },
  {
   "cell_type": "code",
   "execution_count": 366,
   "metadata": {
    "collapsed": false
   },
   "outputs": [
    {
     "data": {
      "text/plain": [
       "defaultdict(float,\n",
       "            {'GB': 0.90463215258855589,\n",
       "             'NB': 0.7365939942410531,\n",
       "             'RF': 0.98728428701180748})"
      ]
     },
     "execution_count": 366,
     "metadata": {},
     "output_type": "execute_result"
    }
   ],
   "source": [
    "results_count"
   ]
  },
  {
   "cell_type": "code",
   "execution_count": 388,
   "metadata": {
    "collapsed": false
   },
   "outputs": [
    {
     "name": "stdout",
     "output_type": "stream",
     "text": [
      "Naive Bayes Confusion Matrix:\n",
      "TN= 0.4477747502270663 -- FP= 0.03633060853769301\n",
      "FN= 0.009990917347865577 -- TP= 0.5059037238873751\n",
      "F1 score: 0.9562231759656651\n"
     ]
    }
   ],
   "source": [
    "threshold = 1\n",
    "FP = 0\n",
    "TP = 0\n",
    "FN = 0\n",
    "TN = 0\n",
    "for i in range(len(y_predict)):\n",
    "    if abs(y_predict[i] - y_test_original[i]) > threshold and abs(y_predict[i]-5) <= threshold and abs(y_test_original[i]-1) <= threshold:\n",
    "        FP += 1 \n",
    "    if abs(y_predict[i] - y_test_original[i]) <= threshold  and abs(y_predict[i]-5) <= threshold and abs(y_test_original[i]-5) <= threshold:\n",
    "        TP += 1 \n",
    "    if abs(y_predict[i] - y_test_original[i]) > threshold  and abs(y_predict[i]-1) <= threshold and abs(y_test_original[i]-5) <= threshold:\n",
    "        FN += 1 \n",
    "    if abs(y_predict[i] - y_test_original[i]) <= threshold  and abs(y_predict[i]-1) <= threshold and abs(y_test_original[i]-1) <= threshold:\n",
    "        TN += 1    \n",
    "        \n",
    "FP = FP/len(y_predict)\n",
    "TP = TP/len(y_predict)\n",
    "FN = FN/len(y_predict)\n",
    "TN = TN/len(y_predict)\n",
    "print('Naive Bayes Confusion Matrix:')\n",
    "print('TN=',TN,'--','FP=',FP)\n",
    "print('FN=',FN,'--','TP=',TP)\n",
    "print('F1 score:',2*TP/(2*TP+FP+FN))"
   ]
  },
  {
   "cell_type": "code",
   "execution_count": 285,
   "metadata": {
    "collapsed": false
   },
   "outputs": [
    {
     "name": "stdout",
     "output_type": "stream",
     "text": [
      "Fitting 3 folds for each of 10 candidates, totalling 30 fits\n"
     ]
    },
    {
     "name": "stderr",
     "output_type": "stream",
     "text": [
      "[Parallel(n_jobs=-1)]: Done  30 out of  30 | elapsed:   24.9s finished\n"
     ]
    },
    {
     "name": "stdout",
     "output_type": "stream",
     "text": [
      "best parameters: {'random_state': 1, 'max_depth': None, 'bootstrap': True, 'n_estimators': 60, 'max_features': None, 'min_samples_split': 4}\n"
     ]
    }
   ],
   "source": [
    "random_forest_grid = {'max_depth': [3, None],\n",
    "                      'max_features': ['sqrt', 'log2', None],\n",
    "                      'min_samples_split': [1, 2, 4],\n",
    "                      'bootstrap': [True, False],\n",
    "                      'n_estimators': [10, 20, 60],\n",
    "                      'random_state': [1]}\n",
    "\n",
    "rf_gridsearch = RandomizedSearchCV(RandomForestClassifier(),\n",
    "                             random_forest_grid,\n",
    "                             n_jobs=-1,\n",
    "                             verbose=True,\n",
    "                             scoring='accuracy')\n",
    "rf_gridsearch.fit(vec_train,y)\n",
    "print(\"best parameters:\", rf_gridsearch.best_params_)\n",
    "best_rf_model = rf_gridsearch.best_estimator_"
   ]
  },
  {
   "cell_type": "code",
   "execution_count": 389,
   "metadata": {
    "collapsed": false
   },
   "outputs": [
    {
     "name": "stdout",
     "output_type": "stream",
     "text": [
      "Accuracy for best paramter for random forest: 1.0\n"
     ]
    }
   ],
   "source": [
    "y_predict = best_rf_model.predict(vec_test_original)\n",
    "acc = sum([1 for i in range(len(y_predict)) if abs(y_predict[i]-y_test_original[i])==0])/len(y_predict)\n",
    "print('Accuracy for best paramter for random forest:',acc)"
   ]
  },
  {
   "cell_type": "code",
   "execution_count": 390,
   "metadata": {
    "collapsed": true
   },
   "outputs": [],
   "source": [
    "results_count['RF_GridCV'] = acc"
   ]
  },
  {
   "cell_type": "code",
   "execution_count": 371,
   "metadata": {
    "collapsed": false
   },
   "outputs": [
    {
     "data": {
      "text/plain": [
       "defaultdict(float,\n",
       "            {'GB': 0.90463215258855589,\n",
       "             'NB': 0.7365939942410531,\n",
       "             'RF': 0.98728428701180748,\n",
       "             'RF_GridCV': 1.0})"
      ]
     },
     "execution_count": 371,
     "metadata": {},
     "output_type": "execute_result"
    }
   ],
   "source": [
    "results_count"
   ]
  },
  {
   "cell_type": "code",
   "execution_count": 391,
   "metadata": {
    "collapsed": false
   },
   "outputs": [
    {
     "name": "stdout",
     "output_type": "stream",
     "text": [
      "Naive Bayes Confusion Matrix:\n",
      "TN= 0.4841053587647593 -- FP= 0.0\n",
      "FN= 0.0 -- TP= 0.5158946412352406\n",
      "F1 score: 1.0\n"
     ]
    }
   ],
   "source": [
    "threshold = 1\n",
    "FP = 0\n",
    "TP = 0\n",
    "FN = 0\n",
    "TN = 0\n",
    "for i in range(len(y_predict)):\n",
    "    if abs(y_predict[i] - y_test_original[i]) > threshold and abs(y_predict[i]-5) <= threshold and abs(y_test_original[i]-1) <= threshold:\n",
    "        FP += 1 \n",
    "    if abs(y_predict[i] - y_test_original[i]) <= threshold  and abs(y_predict[i]-5) <= threshold and abs(y_test_original[i]-5) <= threshold:\n",
    "        TP += 1 \n",
    "    if abs(y_predict[i] - y_test_original[i]) > threshold  and abs(y_predict[i]-1) <= threshold and abs(y_test_original[i]-5) <= threshold:\n",
    "        FN += 1 \n",
    "    if abs(y_predict[i] - y_test_original[i]) <= threshold  and abs(y_predict[i]-1) <= threshold and abs(y_test_original[i]-1) <= threshold:\n",
    "        TN += 1    \n",
    "        \n",
    "FP = FP/len(y_predict)\n",
    "TP = TP/len(y_predict)\n",
    "FN = FN/len(y_predict)\n",
    "TN = TN/len(y_predict)\n",
    "print('Naive Bayes Confusion Matrix:')\n",
    "print('TN=',TN,'--','FP=',FP)\n",
    "print('FN=',FN,'--','TP=',TP)\n",
    "print('F1 score:',2*TP/(2*TP+FP+FN))"
   ]
  },
  {
   "cell_type": "code",
   "execution_count": 289,
   "metadata": {
    "collapsed": false
   },
   "outputs": [
    {
     "name": "stdout",
     "output_type": "stream",
     "text": [
      "Fitting 3 folds for each of 10 candidates, totalling 30 fits\n"
     ]
    },
    {
     "name": "stderr",
     "output_type": "stream",
     "text": [
      "[Parallel(n_jobs=-1)]: Done  30 out of  30 | elapsed: 23.6min finished\n"
     ]
    },
    {
     "name": "stdout",
     "output_type": "stream",
     "text": [
      "best parameters: {'random_state': 1, 'max_depth': None, 'n_estimators': 60, 'max_features': 'sqrt', 'min_samples_split': 1}\n"
     ]
    }
   ],
   "source": [
    "Gboost_grid = {'max_depth': [3, None],\n",
    "                      'max_features': ['sqrt', 'log2', None],\n",
    "                      'min_samples_split': [1,4],\n",
    "                      'n_estimators': [20, 60],\n",
    "                      'random_state': [1]}\n",
    "\n",
    "Gboost_gridsearch = RandomizedSearchCV(GradientBoostingClassifier(),\n",
    "                             Gboost_grid,\n",
    "                             n_jobs=-1,\n",
    "                             verbose=True,\n",
    "                             scoring='accuracy')\n",
    "Gboost_gridsearch.fit(vec_train.toarray(),y)\n",
    "print(\"best parameters:\", Gboost_gridsearch.best_params_)\n",
    "best_Gboost_model = Gboost_gridsearch.best_estimator_"
   ]
  },
  {
   "cell_type": "code",
   "execution_count": 392,
   "metadata": {
    "collapsed": false
   },
   "outputs": [
    {
     "name": "stdout",
     "output_type": "stream",
     "text": [
      "Accuracy for best paramter for Gboost: 1.0\n"
     ]
    }
   ],
   "source": [
    "y_predict = best_Gboost_model.predict(vec_test_original.toarray())\n",
    "acc = sum([1 for i in range(len(y_predict)) if abs(y_predict[i]-y_test_original[i])==0])/len(y_predict)\n",
    "print('Accuracy for best paramter for Gboost:',acc)\n",
    "results_count['GB_GridCV'] = acc"
   ]
  },
  {
   "cell_type": "code",
   "execution_count": 375,
   "metadata": {
    "collapsed": false
   },
   "outputs": [
    {
     "data": {
      "text/plain": [
       "defaultdict(float,\n",
       "            {'GB': 0.90463215258855589,\n",
       "             'GB_GridCV': 1.0,\n",
       "             'NB': 0.7365939942410531,\n",
       "             'RF': 0.98728428701180748,\n",
       "             'RF_GridCV': 1.0})"
      ]
     },
     "execution_count": 375,
     "metadata": {},
     "output_type": "execute_result"
    }
   ],
   "source": [
    "results_count"
   ]
  },
  {
   "cell_type": "code",
   "execution_count": 393,
   "metadata": {
    "collapsed": false
   },
   "outputs": [
    {
     "name": "stdout",
     "output_type": "stream",
     "text": [
      "Naive Bayes Confusion Matrix:\n",
      "TN= 0.4841053587647593 -- FP= 0.0\n",
      "FN= 0.0 -- TP= 0.5158946412352406\n",
      "F1 score: 1.0\n"
     ]
    }
   ],
   "source": [
    "threshold = 1\n",
    "FP = 0\n",
    "TP = 0\n",
    "FN = 0\n",
    "TN = 0\n",
    "for i in range(len(y_predict)):\n",
    "    if abs(y_predict[i] - y_test_original[i]) > threshold and abs(y_predict[i]-5) <= threshold and abs(y_test_original[i]-1) <= threshold:\n",
    "        FP += 1 \n",
    "    if abs(y_predict[i] - y_test_original[i]) <= threshold  and abs(y_predict[i]-5) <= threshold and abs(y_test_original[i]-5) <= threshold:\n",
    "        TP += 1 \n",
    "    if abs(y_predict[i] - y_test_original[i]) > threshold  and abs(y_predict[i]-1) <= threshold and abs(y_test_original[i]-5) <= threshold:\n",
    "        FN += 1 \n",
    "    if abs(y_predict[i] - y_test_original[i]) <= threshold  and abs(y_predict[i]-1) <= threshold and abs(y_test_original[i]-1) <= threshold:\n",
    "        TN += 1    \n",
    "        \n",
    "FP = FP/len(y_predict)\n",
    "TP = TP/len(y_predict)\n",
    "FN = FN/len(y_predict)\n",
    "TN = TN/len(y_predict)\n",
    "print('Naive Bayes Confusion Matrix:')\n",
    "print('TN=',TN,'--','FP=',FP)\n",
    "print('FN=',FN,'--','TP=',TP)\n",
    "print('F1 score:',2*TP/(2*TP+FP+FN))"
   ]
  },
  {
   "cell_type": "markdown",
   "metadata": {},
   "source": [
    "### Part 3. Regressor"
   ]
  },
  {
   "cell_type": "code",
   "execution_count": 293,
   "metadata": {
    "collapsed": true
   },
   "outputs": [],
   "source": [
    "rfc = RandomForestRegressor()\n",
    "rfc.fit(vec_train,y)\n",
    "y_predict = rfc.predict(vec_test_original)\n",
    "acc = [1 for i in range(len(y_predict)) if abs(y_predict[i]-y_test_original[i]) <= 1]\n",
    "score = sum(acc)/len(y_predict)\n",
    "results_count['RF_Reg'] = score"
   ]
  },
  {
   "cell_type": "code",
   "execution_count": 294,
   "metadata": {
    "collapsed": false
   },
   "outputs": [
    {
     "data": {
      "text/plain": [
       "defaultdict(float,\n",
       "            {'GB': 0.90281562216167122,\n",
       "             'GB_GridCV': 1.0,\n",
       "             'NB': 0.7365939942410531,\n",
       "             'RF': 0.98728428701180748,\n",
       "             'RF_GridCV': 1.0,\n",
       "             'RF_Reg': 0.90554041780199823})"
      ]
     },
     "execution_count": 294,
     "metadata": {},
     "output_type": "execute_result"
    }
   ],
   "source": [
    "results_count"
   ]
  },
  {
   "cell_type": "code",
   "execution_count": 295,
   "metadata": {
    "collapsed": true
   },
   "outputs": [],
   "source": [
    "threshold_vals = np.linspace(-6,6,100)\n",
    "FP_list = []\n",
    "TP_list = []\n",
    "for threshold in threshold_vals:\n",
    "    #threshold = 2\n",
    "    FP = 0\n",
    "    for i in range(len(y_predict)):\n",
    "        if abs(y_predict[i] - y_test_original[i]) <= threshold and abs(y_predict[i]-5) <= threshold and abs(y_test_original[i]-5) > threshold:\n",
    "            FP += 1 \n",
    "    FP = FP/len(y_predict)\n",
    "    TP = 0\n",
    "    for i in range(len(y_predict)):\n",
    "        if abs(y_predict[i] - y_test_original[i]) <= threshold  and abs(y_predict[i]-5) <= threshold and abs(y_test_original[i]-5) <= threshold:\n",
    "            TP += 1 \n",
    "    TP = TP/len(y_predict)\n",
    "    FP_list.append(FP)\n",
    "    TP_list.append(TP)"
   ]
  },
  {
   "cell_type": "code",
   "execution_count": 296,
   "metadata": {
    "collapsed": false
   },
   "outputs": [
    {
     "data": {
      "image/png": "[encoded data removed]",
      "text/plain": [
       "<matplotlib.figure.Figure at 0x10fbc0940>"
      ]
     },
     "metadata": {},
     "output_type": "display_data"
    }
   ],
   "source": [
    "plt.scatter(FP_list,TP_list)\n",
    "plt.xlabel('FP')\n",
    "plt.ylabel('TP')\n",
    "plt.title('ROC Random Forest');"
   ]
  },
  {
   "cell_type": "markdown",
   "metadata": {},
   "source": [
    "Note here that ROC curve is not smoothly behaving since we are analyzing multiclass regression."
   ]
  },
  {
   "cell_type": "code",
   "execution_count": 298,
   "metadata": {
    "collapsed": false
   },
   "outputs": [],
   "source": [
    "rfc = GradientBoostingRegressor()\n",
    "rfc.fit(vec_train,y)\n",
    "y_predict = rfc.predict(vec_test_original.toarray())\n",
    "acc = [1 for i in range(len(y_predict)) if abs(y_predict[i]-y_test_original[i]) <= 1]\n",
    "score = sum(acc)/len(y_predict)\n",
    "results_count['GB_Reg'] = score"
   ]
  },
  {
   "cell_type": "code",
   "execution_count": 299,
   "metadata": {
    "collapsed": false
   },
   "outputs": [
    {
     "data": {
      "text/plain": [
       "defaultdict(float,\n",
       "            {'GB': 0.90281562216167122,\n",
       "             'GB_GridCV': 1.0,\n",
       "             'GB_Reg': 0.58401453224341504,\n",
       "             'NB': 0.7365939942410531,\n",
       "             'RF': 0.98728428701180748,\n",
       "             'RF_GridCV': 1.0,\n",
       "             'RF_Reg': 0.90554041780199823})"
      ]
     },
     "execution_count": 299,
     "metadata": {},
     "output_type": "execute_result"
    }
   ],
   "source": [
    "results_count"
   ]
  },
  {
   "cell_type": "code",
   "execution_count": 300,
   "metadata": {
    "collapsed": true
   },
   "outputs": [],
   "source": [
    "threshold_vals = np.linspace(-6,6,100)\n",
    "FP_list = []\n",
    "TP_list = []\n",
    "for threshold in threshold_vals:\n",
    "    #threshold = 2\n",
    "    FP = 0\n",
    "    for i in range(len(y_predict)):\n",
    "        if abs(y_predict[i] - y_test_original[i]) <= threshold and abs(y_predict[i]-5) <= threshold and abs(y_test_original[i]-5) > threshold:\n",
    "            FP += 1 \n",
    "    FP = FP/len(y_predict)\n",
    "    TP = 0\n",
    "    for i in range(len(y_predict)):\n",
    "        if abs(y_predict[i] - y_test_original[i]) <= threshold  and abs(y_predict[i]-5) <= threshold and abs(y_test_original[i]-5) <= threshold:\n",
    "            TP += 1 \n",
    "    TP = TP/len(y_predict)\n",
    "    FP_list.append(FP)\n",
    "    TP_list.append(TP)"
   ]
  },
  {
   "cell_type": "code",
   "execution_count": 301,
   "metadata": {
    "collapsed": false
   },
   "outputs": [
    {
     "data": {
      "image/png": "[encoded data removed]",
      "text/plain": [
       "<matplotlib.figure.Figure at 0x112d95a58>"
      ]
     },
     "metadata": {},
     "output_type": "display_data"
    }
   ],
   "source": [
    "plt.scatter(FP_list,TP_list)\n",
    "plt.xlabel('FP')\n",
    "plt.ylabel('TP')\n",
    "plt.title('ROC GBoost');"
   ]
  },
  {
   "cell_type": "markdown",
   "metadata": {},
   "source": [
    "### Conclusion"
   ]
  },
  {
   "cell_type": "markdown",
   "metadata": {},
   "source": [
    "The Boosting and Random Forest classifiers do a great job classifying the ratings with bag of words methods and simple count vectorizing. The major reason for this is that the sentiment of a text is mostly recognized by certain words better than by any long sequence of words. This can be seen as we try to use bag of bi-grams which lowers the accuracy of the model.\n",
    "\n",
    "It would be very interesting to analyze the review by clustering algorithms such topic modeling and perhaps Kmeans. Clustering will help to predict not only the sentiment of the review but also to specify the product name and by that making recommendation to the customer."
   ]
  },
  {
   "cell_type": "code",
   "execution_count": null,
   "metadata": {
    "collapsed": true
   },
   "outputs": [],
   "source": []
  }
 ],
 "metadata": {
  "kernelspec": {
   "display_name": "Python [Root]",
   "language": "python",
   "name": "Python [Root]"
  },
  "language_info": {
   "codemirror_mode": {
    "name": "ipython",
    "version": 3
   },
   "file_extension": ".py",
   "mimetype": "text/x-python",
   "name": "python",
   "nbconvert_exporter": "python",
   "pygments_lexer": "ipython3",
   "version": "3.5.2"
  }
 },
 "nbformat": 4,
 "nbformat_minor": 0
}
