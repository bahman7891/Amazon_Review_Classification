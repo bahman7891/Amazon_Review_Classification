{
 "cells": [
  {
   "cell_type": "code",
   "execution_count": 1,
   "metadata": {
    "collapsed": false
   },
   "outputs": [
    {
     "name": "stdout",
     "output_type": "stream",
     "text": [
      "Populating the interactive namespace from numpy and matplotlib\n"
     ]
    }
   ],
   "source": [
    "import numpy as np\n",
    "import matplotlib.pyplot as plt\n",
    "%pylab inline\n",
    "\n",
    "from sklearn.model_selection import KFold\n",
    "\n",
    "from textblob import TextBlob\n",
    "from nltk.corpus import stopwords\n",
    "from sklearn.feature_extraction.text import CountVectorizer\n",
    "from collections import defaultdict\n",
    "\n",
    "\n",
    "from sklearn.naive_bayes import MultinomialNB\n",
    "from sklearn.ensemble import RandomForestClassifier, RandomForestRegressor\n",
    "from sklearn.ensemble import GradientBoostingClassifier\n",
    "from sklearn.ensemble import GradientBoostingRegressor\n",
    "from sklearn.neighbors import KNeighborsClassifier\n",
    "from sklearn.neighbors import KNeighborsRegressor\n",
    "\n",
    "from sklearn.model_selection import RandomizedSearchCV"
   ]
  },
  {
   "cell_type": "markdown",
   "metadata": {},
   "source": [
    "# Rating Learning and Prediction for Amazon Product Reviews\n",
    "\n",
    "## Bahman Roostaei\n",
    "\n",
    "$\\textit{December 2016, Galvanize , San Fransisco.} $"
   ]
  },
  {
   "cell_type": "markdown",
   "metadata": {},
   "source": [
    "In this project we use the reviews of various products submitted by Amazon.com customers to understand the models that can best predict (classify) the ratings. The data are obtained from [here](http://www.cs.jhu.edu/~mdredze/datasets/sentiment/). We first use classification models and calculate the accuracy score and present the confusion matrix. Since this is a multiclass classification we group the ratings that are close to each other (4 and 5) and (1,2). Note that there is no (3) option (see below for the histogram of labels). We then use regressor models to be able to analyze the model by ROC curve."
   ]
  },
  {
   "cell_type": "markdown",
   "metadata": {},
   "source": [
    "### Part 1. Data.  "
   ]
  },
  {
   "cell_type": "markdown",
   "metadata": {},
   "source": [
    "Data have been provided as dictionary of joined tokens (bag of bi-grams) for each review. Here we reprocess the data and convert them to a document with the same structure as reflected in dictionaries with the corresponding number of times it is repeated. "
   ]
  },
  {
   "cell_type": "code",
   "execution_count": 2,
   "metadata": {
    "collapsed": false
   },
   "outputs": [],
   "source": [
    "class review_analysis(object):\n",
    "    # This class reads and process the reviews.\n",
    "    \n",
    "    def __init__(self,product_name,filename):\n",
    "        # instanciate the class by giving the product name or the filename in which\n",
    "        # the train and test files are.\n",
    "        self.product_name = product_name\n",
    "        self.filename = filename\n",
    "        \n",
    "    def read(self):\n",
    "        \n",
    "        # read the Amazon processed files.\n",
    "        \n",
    "        with open(self.product_name+'/'+self.filename) as f:\n",
    "            self._data = f.readlines()\n",
    "    \n",
    "        \n",
    "    \n",
    "    def process(self,pure_token = False):\n",
    "         \n",
    "        # if pure_token = True returns a list of single strings each containing all the \n",
    "        # tokens (no underscores) repeated in the same number as original review \n",
    "        # but stop words removed.\n",
    "        # In all cases it returns the labels as well.\n",
    "        \n",
    "        self._pure_token = pure_token\n",
    "        data = self._data\n",
    "        X = [] # X is list of dictionaries (or processed reviewes) in the selected product name.\n",
    "            \n",
    "        y = [] # y corresponds to the labels.\n",
    "        \n",
    "        for rev in data: \n",
    "            rev_dict = defaultdict(int)\n",
    "            for W in rev.split()[:-1:]:\n",
    "                key= W.split(':')[0]\n",
    "                value = int(W.split(':')[1]) \n",
    "                rev_dict[key] = value\n",
    "                \n",
    "            X.append(rev_dict)\n",
    "            label = rev.split()[-1].split(':')[1]\n",
    "            y.append(float(label))\n",
    "    \n",
    "        if pure_token:\n",
    "            stop_words = stopwords.words('English')\n",
    "            review_nostop = []\n",
    "            for review in X:\n",
    "                tokens = []\n",
    "                for key,value in review.items():\n",
    "                    key_split = key.split('_')\n",
    "                    for elem in key_split:\n",
    "                        if elem not in stop_words:\n",
    "                            for _ in range(value):\n",
    "                                tokens.append(elem)\n",
    "                review_nostop.append(' '.join(tokens))\n",
    "    \n",
    "            return review_nostop,y\n",
    "        else:\n",
    "            return X,y"
   ]
  },
  {
   "cell_type": "markdown",
   "metadata": {},
   "source": [
    "We start with the book review and their star ratings:"
   ]
  },
  {
   "cell_type": "code",
   "execution_count": 40,
   "metadata": {
    "collapsed": false
   },
   "outputs": [],
   "source": [
    "rva = review_analysis('dvd','train')\n",
    "rva.read()\n",
    "X,y = rva.process(pure_token=False)"
   ]
  },
  {
   "cell_type": "code",
   "execution_count": 41,
   "metadata": {
    "collapsed": false
   },
   "outputs": [],
   "source": [
    "reviews = []\n",
    "for review in X:\n",
    "    rev = []\n",
    "    for key,value in review.items():\n",
    "        for i in range(value):\n",
    "            rev.append(key)\n",
    "    rev_joined = ' '.join(rev)\n",
    "    reviews.append(rev_joined)"
   ]
  },
  {
   "cell_type": "markdown",
   "metadata": {},
   "source": [
    "Here is a sample of the review generated after processing. The double tokens are not in the human meaningful order."
   ]
  },
  {
   "cell_type": "code",
   "execution_count": 5,
   "metadata": {
    "collapsed": false
   },
   "outputs": [
    {
     "data": {
      "text/plain": [
       "\"to vu fast_moving fast actors_exciting excellent_acting moving_action it of top_story reality moving selection story_line deja and_selection action top partly_sci-fi line to_own excellent casting own casting_and own_it today's acting_great selection_of sci-fi_partly partly partly reality_life action_can't biting line_partly exciting blu-ray life_excellent great_casting can't_wait today's_reality nail_biting can't biting_fast life in_blu-ray it_in wait_to story partly_today's nail actors of_actors exciting_nail wait deja_vu sci-fi acting in great and\""
      ]
     },
     "execution_count": 5,
     "metadata": {},
     "output_type": "execute_result"
    }
   ],
   "source": [
    "reviews[0]"
   ]
  },
  {
   "cell_type": "code",
   "execution_count": 42,
   "metadata": {
    "collapsed": true
   },
   "outputs": [],
   "source": [
    "# data copied to X.\n",
    "X = reviews"
   ]
  },
  {
   "cell_type": "markdown",
   "metadata": {},
   "source": [
    "Below we can observe that the ratings are balanced."
   ]
  },
  {
   "cell_type": "code",
   "execution_count": 7,
   "metadata": {
    "collapsed": false
   },
   "outputs": [
    {
     "data": {
      "image/png": "[encoded data removed]",
      "text/plain": [
       "<matplotlib.figure.Figure at 0x111431ac8>"
      ]
     },
     "metadata": {},
     "output_type": "display_data"
    }
   ],
   "source": [
    "plt.hist(y)\n",
    "plt.xlabel('Star Rating')\n",
    "plt.title('Book Star Rating Distribution');"
   ]
  },
  {
   "cell_type": "markdown",
   "metadata": {},
   "source": [
    "We also can analyze the polarity distribution of the documents and investigate how they are related to the ratings. We use TextBlob:"
   ]
  },
  {
   "cell_type": "code",
   "execution_count": 8,
   "metadata": {
    "collapsed": false
   },
   "outputs": [],
   "source": [
    "polarity = []\n",
    "for i in range(len(y)):\n",
    "    blob = TextBlob(X[i])\n",
    "    polarity.append(blob.polarity)"
   ]
  },
  {
   "cell_type": "code",
   "execution_count": 9,
   "metadata": {
    "collapsed": false
   },
   "outputs": [
    {
     "data": {
      "image/png": "[encoded data removed]",
      "text/plain": [
       "<matplotlib.figure.Figure at 0x112cf8128>"
      ]
     },
     "metadata": {},
     "output_type": "display_data"
    }
   ],
   "source": [
    "plt.scatter(polarity,y)\n",
    "plt.xlabel('TextBlob Polarity')\n",
    "plt.ylabel('Customer Rating')\n",
    "plt.title('Comparison of Polarity and Ratings');"
   ]
  },
  {
   "cell_type": "markdown",
   "metadata": {},
   "source": [
    "From the above we observe that the extreme ratings (1,5) cover wider range of polarities."
   ]
  },
  {
   "cell_type": "markdown",
   "metadata": {},
   "source": [
    "### Part 2. Classifiers:"
   ]
  },
  {
   "cell_type": "markdown",
   "metadata": {},
   "source": [
    "We use count vectorizing. Note that Tf-idf vectorizing did not improve in any significant order our results that is why we don't present them here. The reason for this is that in understanding the sentiment of a document perhaps certain words (or bi-grams) play the most important way of recognizing the mood of the text."
   ]
  },
  {
   "cell_type": "code",
   "execution_count": 43,
   "metadata": {
    "collapsed": false
   },
   "outputs": [],
   "source": [
    "vectorizer = CountVectorizer(min_df=1)\n",
    "vec_train = vectorizer.fit_transform(X)"
   ]
  },
  {
   "cell_type": "code",
   "execution_count": 44,
   "metadata": {
    "collapsed": true
   },
   "outputs": [],
   "source": [
    "# Here we process the separate test file:\n",
    "rva_test = review_analysis('dvd','test')\n",
    "rva_test.read()\n",
    "X_test,y_test_original = rva_test.process(pure_token=False)"
   ]
  },
  {
   "cell_type": "code",
   "execution_count": 45,
   "metadata": {
    "collapsed": true
   },
   "outputs": [],
   "source": [
    "reviews = []\n",
    "for review in X_test:\n",
    "    rev = []\n",
    "    for key,value in review.items():\n",
    "        for i in range(value):\n",
    "            rev.append(key)\n",
    "    rev_joined = ' '.join(rev)\n",
    "    reviews.append(rev_joined)\n",
    "X_test = reviews   "
   ]
  },
  {
   "cell_type": "code",
   "execution_count": 46,
   "metadata": {
    "collapsed": false
   },
   "outputs": [],
   "source": [
    "# vectorizing the test file:\n",
    "vec_test_original = vectorizer.transform(X_test)"
   ]
  },
  {
   "cell_type": "code",
   "execution_count": 47,
   "metadata": {
    "collapsed": true
   },
   "outputs": [],
   "source": [
    "# This dictionary shows the accuracy for each model.\n",
    "results_count = defaultdict(float)"
   ]
  },
  {
   "cell_type": "code",
   "execution_count": 48,
   "metadata": {
    "collapsed": true
   },
   "outputs": [],
   "source": [
    "kf = KFold(n_splits=5)"
   ]
  },
  {
   "cell_type": "markdown",
   "metadata": {},
   "source": [
    "Multinomial Bayes is the first model we are going to examine. We use 5-fold split to find the mean accuracy score. Here we use cross-validation over training set. The important point is that we observe that the classifier is not able to very well classify the ratings that are close to each other by 1 unit. That is why we calculate the score by 1 unit of rating difference:"
   ]
  },
  {
   "cell_type": "code",
   "execution_count": 49,
   "metadata": {
    "collapsed": false
   },
   "outputs": [],
   "source": [
    "score = 0\n",
    "for train_index,test_index in kf.split(vec_train):\n",
    "    X_train, X_test = vec_train[train_index], vec_train[test_index]\n",
    "    y_train, y_test = np.array(y)[train_index], np.array(y)[test_index]\n",
    "    mnb = MultinomialNB()\n",
    "    mnb.fit(X_train,y_train)\n",
    "    y_predict = mnb.predict(X_test)\n",
    "    acc = [1 for i in range(len(y_predict)) if abs(y_predict[i]-y_test[i]) <= 1]\n",
    "    score += sum(acc)/len(y_predict)\n",
    "results_count['NB'] = score/5"
   ]
  },
  {
   "cell_type": "code",
   "execution_count": 50,
   "metadata": {
    "collapsed": false
   },
   "outputs": [
    {
     "data": {
      "text/plain": [
       "defaultdict(float, {'NB': 0.74222859875657576})"
      ]
     },
     "execution_count": 50,
     "metadata": {},
     "output_type": "execute_result"
    }
   ],
   "source": [
    "results_count"
   ]
  },
  {
   "cell_type": "code",
   "execution_count": 52,
   "metadata": {
    "collapsed": false
   },
   "outputs": [
    {
     "name": "stdout",
     "output_type": "stream",
     "text": [
      "Naive Bayes Confusion Matrix:\n",
      "TN= 0.24509803921568626 -- FP= 0.07352941176470588\n",
      "FN= 0.13725490196078433 -- TP= 0.2647058823529412\n",
      "F1 score: 0.7152317880794702\n"
     ]
    }
   ],
   "source": [
    "threshold = 2\n",
    "FP = 0\n",
    "TP = 0\n",
    "FN = 0\n",
    "TN = 0\n",
    "for i in range(len(y_predict)):\n",
    "    if abs(y_predict[i] - y_test_original[i]) <= threshold and abs(y_predict[i]-5) <= threshold and abs(y_test_original[i]-1) <= threshold:\n",
    "        FP += 1 \n",
    "    if abs(y_predict[i] - y_test_original[i]) <= threshold  and abs(y_predict[i]-5) <= threshold and abs(y_test_original[i]-5) <= threshold:\n",
    "        TP += 1 \n",
    "    if abs(y_predict[i] - y_test_original[i]) <= threshold  and abs(y_predict[i]-1) <= threshold and abs(y_test_original[i]-5) <= threshold:\n",
    "        FN += 1 \n",
    "    if abs(y_predict[i] - y_test_original[i]) <= threshold  and abs(y_predict[i]-1) <= threshold and abs(y_test_original[i]-1) <= threshold:\n",
    "        TN += 1            \n",
    "FP = FP/len(y_predict)\n",
    "TP = TP/len(y_predict)\n",
    "FN = FN/len(y_predict)\n",
    "TN = TN/len(y_predict)\n",
    "print('Naive Bayes Confusion Matrix:')\n",
    "print('TN=',TN,'--','FP=',FP)\n",
    "print('FN=',FN,'--','TP=',TP)\n",
    "print('F1 score:',2*TP/(2*TP+FP+FN))"
   ]
  },
  {
   "cell_type": "markdown",
   "metadata": {},
   "source": [
    "We start the Random Forest and Gradient Boosting classification with default parameters and later on we use randomized grid search to find the best score:"
   ]
  },
  {
   "cell_type": "code",
   "execution_count": 53,
   "metadata": {
    "collapsed": false
   },
   "outputs": [],
   "source": [
    "rfc = RandomForestClassifier()\n",
    "rfc.fit(vec_train,y)\n",
    "y_predict = rfc.predict(vec_test_original)\n",
    "acc = [1 for i in range(len(y_predict)) if abs(y_predict[i]-y_test_original[i]) <= 1]\n",
    "score = sum(acc)/len(y_predict)\n",
    "results_count['RF'] = score"
   ]
  },
  {
   "cell_type": "code",
   "execution_count": 54,
   "metadata": {
    "collapsed": false
   },
   "outputs": [
    {
     "data": {
      "text/plain": [
       "defaultdict(float, {'NB': 0.74222859875657576, 'RF': 0.64631167562286274})"
      ]
     },
     "execution_count": 54,
     "metadata": {},
     "output_type": "execute_result"
    }
   ],
   "source": [
    "results_count"
   ]
  },
  {
   "cell_type": "code",
   "execution_count": 55,
   "metadata": {
    "collapsed": false
   },
   "outputs": [
    {
     "name": "stdout",
     "output_type": "stream",
     "text": [
      "Default Random Forest Confusion Matrix:\n",
      "TN= 0.3539325842696629 -- FP= 0.03663898387884709\n",
      "FN= 0.0537371763556424 -- TP= 0.2923790913531998\n",
      "F1 score: 0.866136034732272\n"
     ]
    }
   ],
   "source": [
    "threshold = 2\n",
    "FP = 0\n",
    "TP = 0\n",
    "FN = 0\n",
    "TN = 0\n",
    "for i in range(len(y_predict)):\n",
    "    if abs(y_predict[i] - y_test_original[i]) <= threshold and abs(y_predict[i]-5) <= threshold and abs(y_test_original[i]-1) <= threshold:\n",
    "        FP += 1 \n",
    "    if abs(y_predict[i] - y_test_original[i]) <= threshold  and abs(y_predict[i]-5) <= threshold and abs(y_test_original[i]-5) <= threshold:\n",
    "        TP += 1 \n",
    "    if abs(y_predict[i] - y_test_original[i]) <= threshold  and abs(y_predict[i]-1) <= threshold and abs(y_test_original[i]-5) <= threshold:\n",
    "        FN += 1 \n",
    "    if abs(y_predict[i] - y_test_original[i]) <= threshold  and abs(y_predict[i]-1) <= threshold and abs(y_test_original[i]-1) <= threshold:\n",
    "        TN += 1            \n",
    "FP = FP/len(y_predict)\n",
    "TP = TP/len(y_predict)\n",
    "FN = FN/len(y_predict)\n",
    "TN = TN/len(y_predict)\n",
    "print('Default Random Forest Confusion Matrix:')\n",
    "print('TN=',TN,'--','FP=',FP)\n",
    "print('FN=',FN,'--','TP=',TP)\n",
    "print('F1 score:',2*TP/(2*TP+FP+FN))"
   ]
  },
  {
   "cell_type": "code",
   "execution_count": 56,
   "metadata": {
    "collapsed": false
   },
   "outputs": [],
   "source": [
    "mnb = GradientBoostingClassifier()\n",
    "mnb.fit(vec_train,y)\n",
    "y_predict = mnb.predict(vec_test_original.toarray())\n",
    "acc = [1 for i in range(len(y_predict)) if abs(y_predict[i]-y_test_original[i]) <= 1]\n",
    "score = sum(acc)/len(y_predict)\n",
    "results_count['GB'] = score"
   ]
  },
  {
   "cell_type": "code",
   "execution_count": 57,
   "metadata": {
    "collapsed": false
   },
   "outputs": [
    {
     "data": {
      "text/plain": [
       "defaultdict(float,\n",
       "            {'GB': 0.71543722520762087,\n",
       "             'NB': 0.74222859875657576,\n",
       "             'RF': 0.64631167562286274})"
      ]
     },
     "execution_count": 57,
     "metadata": {},
     "output_type": "execute_result"
    }
   ],
   "source": [
    "results_count"
   ]
  },
  {
   "cell_type": "code",
   "execution_count": 59,
   "metadata": {
    "collapsed": false
   },
   "outputs": [
    {
     "name": "stdout",
     "output_type": "stream",
     "text": [
      "Default GBoost Confusion Matrix:\n",
      "TN= 0.3475818270639961 -- FP= 0.05202735710796287\n",
      "FN= 0.036394723986321445 -- TP= 0.36785539814362483\n",
      "F1 score: 0.892708950800237\n"
     ]
    }
   ],
   "source": [
    "threshold = 2\n",
    "FP = 0\n",
    "TP = 0\n",
    "FN = 0\n",
    "TN = 0\n",
    "for i in range(len(y_predict)):\n",
    "    if abs(y_predict[i] - y_test_original[i]) <= threshold and abs(y_predict[i]-5) <= threshold and abs(y_test_original[i]-1) <= threshold:\n",
    "        FP += 1 \n",
    "    if abs(y_predict[i] - y_test_original[i]) <= threshold  and abs(y_predict[i]-5) <= threshold and abs(y_test_original[i]-5) <= threshold:\n",
    "        TP += 1 \n",
    "    if abs(y_predict[i] - y_test_original[i]) <= threshold  and abs(y_predict[i]-1) <= threshold and abs(y_test_original[i]-5) <= threshold:\n",
    "        FN += 1 \n",
    "    if abs(y_predict[i] - y_test_original[i]) <= threshold  and abs(y_predict[i]-1) <= threshold and abs(y_test_original[i]-1) <= threshold:\n",
    "        TN += 1            \n",
    "FP = FP/len(y_predict)\n",
    "TP = TP/len(y_predict)\n",
    "FN = FN/len(y_predict)\n",
    "TN = TN/len(y_predict)\n",
    "print('Default GBoost Confusion Matrix:')\n",
    "print('TN=',TN,'--','FP=',FP)\n",
    "print('FN=',FN,'--','TP=',TP)\n",
    "print('F1 score:',2*TP/(2*TP+FP+FN))"
   ]
  },
  {
   "cell_type": "markdown",
   "metadata": {},
   "source": [
    "The randomized grid search does a good job in finding the best classifier:"
   ]
  },
  {
   "cell_type": "code",
   "execution_count": 26,
   "metadata": {
    "collapsed": false
   },
   "outputs": [
    {
     "name": "stdout",
     "output_type": "stream",
     "text": [
      "Fitting 3 folds for each of 10 candidates, totalling 30 fits\n"
     ]
    },
    {
     "name": "stderr",
     "output_type": "stream",
     "text": [
      "[Parallel(n_jobs=-1)]: Done  30 out of  30 | elapsed:  1.6min finished\n"
     ]
    },
    {
     "name": "stdout",
     "output_type": "stream",
     "text": [
      "best parameters: {'random_state': 1, 'max_depth': None, 'max_features': None, 'n_estimators': 60, 'bootstrap': True, 'min_samples_split': 4}\n"
     ]
    }
   ],
   "source": [
    "random_forest_grid = {'max_depth': [3, None],\n",
    "                      'max_features': ['sqrt', 'log2', None],\n",
    "                      'min_samples_split': [1, 2, 4],\n",
    "                      'bootstrap': [True, False],\n",
    "                      'n_estimators': [10, 20, 60],\n",
    "                      'random_state': [1]}\n",
    "\n",
    "rf_gridsearch = RandomizedSearchCV(RandomForestClassifier(),\n",
    "                             random_forest_grid,\n",
    "                             n_jobs=-1,\n",
    "                             verbose=True,\n",
    "                             scoring='accuracy')\n",
    "rf_gridsearch.fit(vec_train,y)\n",
    "print(\"best parameters:\", rf_gridsearch.best_params_)\n",
    "best_rf_model = rf_gridsearch.best_estimator_"
   ]
  },
  {
   "cell_type": "code",
   "execution_count": 60,
   "metadata": {
    "collapsed": false
   },
   "outputs": [
    {
     "name": "stdout",
     "output_type": "stream",
     "text": [
      "Accuracy for best paramter for random forest: 0.707620908647\n"
     ]
    }
   ],
   "source": [
    "y_predict = best_rf_model.predict(vec_test_original)\n",
    "acc = sum([1 for i in range(len(y_predict)) if abs(y_predict[i]-y_test_original[i]) <= 1])/len(y_predict)\n",
    "print('Accuracy for best paramter for random forest:',acc)\n",
    "results_count['RF_GridCV'] = score"
   ]
  },
  {
   "cell_type": "code",
   "execution_count": 61,
   "metadata": {
    "collapsed": false
   },
   "outputs": [
    {
     "data": {
      "text/plain": [
       "defaultdict(float,\n",
       "            {'GB': 0.71543722520762087,\n",
       "             'NB': 0.74222859875657576,\n",
       "             'RF': 0.64631167562286274,\n",
       "             'RF_GridCV': 0.71543722520762087})"
      ]
     },
     "execution_count": 61,
     "metadata": {},
     "output_type": "execute_result"
    }
   ],
   "source": [
    "results_count"
   ]
  },
  {
   "cell_type": "code",
   "execution_count": 62,
   "metadata": {
    "collapsed": false
   },
   "outputs": [
    {
     "name": "stdout",
     "output_type": "stream",
     "text": [
      "Best Random Forest Confusion Matrix:\n",
      "TN= 0.33048363458720076 -- FP= 0.058866634098680995\n",
      "FN= 0.04127992183683439 -- TP= 0.3771372740595994\n",
      "F1 score: 0.8827901658090338\n"
     ]
    }
   ],
   "source": [
    "threshold = 2\n",
    "FP = 0\n",
    "TP = 0\n",
    "FN = 0\n",
    "TN = 0\n",
    "for i in range(len(y_predict)):\n",
    "    if abs(y_predict[i] - y_test_original[i]) <= threshold and abs(y_predict[i]-5) <= threshold and abs(y_test_original[i]-1) <= threshold:\n",
    "        FP += 1 \n",
    "    if abs(y_predict[i] - y_test_original[i]) <= threshold  and abs(y_predict[i]-5) <= threshold and abs(y_test_original[i]-5) <= threshold:\n",
    "        TP += 1 \n",
    "    if abs(y_predict[i] - y_test_original[i]) <= threshold  and abs(y_predict[i]-1) <= threshold and abs(y_test_original[i]-5) <= threshold:\n",
    "        FN += 1 \n",
    "    if abs(y_predict[i] - y_test_original[i]) <= threshold  and abs(y_predict[i]-1) <= threshold and abs(y_test_original[i]-1) <= threshold:\n",
    "        TN += 1            \n",
    "FP = FP/len(y_predict)\n",
    "TP = TP/len(y_predict)\n",
    "FN = FN/len(y_predict)\n",
    "TN = TN/len(y_predict)\n",
    "print('Best Random Forest Confusion Matrix:')\n",
    "print('TN=',TN,'--','FP=',FP)\n",
    "print('FN=',FN,'--','TP=',TP)\n",
    "print('F1 score:',2*TP/(2*TP+FP+FN))"
   ]
  },
  {
   "cell_type": "markdown",
   "metadata": {},
   "source": [
    "### Part 3. Regressors:"
   ]
  },
  {
   "cell_type": "code",
   "execution_count": 30,
   "metadata": {
    "collapsed": true
   },
   "outputs": [],
   "source": [
    "rfc = RandomForestRegressor()\n",
    "rfc.fit(vec_train,y)\n",
    "y_predict = rfc.predict(vec_test_original)\n",
    "acc = [1 for i in range(len(y_predict)) if abs(y_predict[i]-y_test_original[i]) <= 1]\n",
    "score = sum(acc)/len(y_predict)\n",
    "results_count['RF_Reg'] = score"
   ]
  },
  {
   "cell_type": "code",
   "execution_count": 31,
   "metadata": {
    "collapsed": false
   },
   "outputs": [
    {
     "data": {
      "text/plain": [
       "defaultdict(float,\n",
       "            {'GB': 0.71543722520762087,\n",
       "             'NB': 0.74222859875657576,\n",
       "             'RF': 0.63702979970688811,\n",
       "             'RF_GridCV': 0.71543722520762087,\n",
       "             'RF_Reg': 0.49218368343917929})"
      ]
     },
     "execution_count": 31,
     "metadata": {},
     "output_type": "execute_result"
    }
   ],
   "source": [
    "results_count"
   ]
  },
  {
   "cell_type": "code",
   "execution_count": 32,
   "metadata": {
    "collapsed": false
   },
   "outputs": [],
   "source": [
    "threshold_vals = np.linspace(-6,6,100)\n",
    "FP_list = []\n",
    "TP_list = []\n",
    "for threshold in threshold_vals:\n",
    "    #threshold = 2\n",
    "    FP = 0\n",
    "    for i in range(len(y_predict)):\n",
    "        if abs(y_predict[i] - y_test_original[i]) <= threshold and abs(y_predict[i]-5) <= threshold and abs(y_test_original[i]-5) > threshold:\n",
    "            FP += 1 \n",
    "    FP = FP/len(y_predict)\n",
    "    TP = 0\n",
    "    for i in range(len(y_predict)):\n",
    "        if abs(y_predict[i] - y_test_original[i]) <= threshold  and abs(y_predict[i]-5) <= threshold and abs(y_test_original[i]-5) <= threshold:\n",
    "            TP += 1 \n",
    "    TP = TP/len(y_predict)\n",
    "    FP_list.append(FP)\n",
    "    TP_list.append(TP)"
   ]
  },
  {
   "cell_type": "code",
   "execution_count": 33,
   "metadata": {
    "collapsed": false
   },
   "outputs": [
    {
     "data": {
      "image/png": "[encoded data removed]",
      "text/plain": [
       "<matplotlib.figure.Figure at 0x112c87320>"
      ]
     },
     "metadata": {},
     "output_type": "display_data"
    }
   ],
   "source": [
    "plt.scatter(FP_list,TP_list)\n",
    "plt.xlabel('FP')\n",
    "plt.ylabel('TP')\n",
    "plt.title('ROC Random Forest');"
   ]
  },
  {
   "cell_type": "markdown",
   "metadata": {},
   "source": [
    "Note here that ROC curve is not smoothly behaving since we are analyzing multiclass regression."
   ]
  },
  {
   "cell_type": "code",
   "execution_count": 37,
   "metadata": {
    "collapsed": true
   },
   "outputs": [],
   "source": [
    "rfc = GradientBoostingRegressor()\n",
    "rfc.fit(vec_train,y)\n",
    "y_predict = rfc.predict(vec_test_original.toarray())\n",
    "acc = [1 for i in range(len(y_predict)) if abs(y_predict[i]-y_test_original[i]) <= 1]\n",
    "score = sum(acc)/len(y_predict)\n",
    "results_count['GB_Reg'] = score"
   ]
  },
  {
   "cell_type": "code",
   "execution_count": 38,
   "metadata": {
    "collapsed": true
   },
   "outputs": [],
   "source": [
    "threshold_vals = np.linspace(-6,6,100)\n",
    "FP_list = []\n",
    "TP_list = []\n",
    "for threshold in threshold_vals:\n",
    "    #threshold = 2\n",
    "    FP = 0\n",
    "    for i in range(len(y_predict)):\n",
    "        if abs(y_predict[i] - y_test_original[i]) <= threshold and abs(y_predict[i]-5) <= threshold and abs(y_test_original[i]-5) > threshold:\n",
    "            FP += 1 \n",
    "    FP = FP/len(y_predict)\n",
    "    TP = 0\n",
    "    for i in range(len(y_predict)):\n",
    "        if abs(y_predict[i] - y_test_original[i]) <= threshold  and abs(y_predict[i]-5) <= threshold and abs(y_test_original[i]-5) <= threshold:\n",
    "            TP += 1 \n",
    "    TP = TP/len(y_predict)\n",
    "    FP_list.append(FP)\n",
    "    TP_list.append(TP)"
   ]
  },
  {
   "cell_type": "code",
   "execution_count": 39,
   "metadata": {
    "collapsed": false
   },
   "outputs": [
    {
     "data": {
      "image/png": "[encoded data removed]",
      "text/plain": [
       "<matplotlib.figure.Figure at 0x1114310b8>"
      ]
     },
     "metadata": {},
     "output_type": "display_data"
    }
   ],
   "source": [
    "plt.scatter(FP_list,TP_list)\n",
    "plt.xlabel('FP')\n",
    "plt.ylabel('TP')\n",
    "plt.title('ROC Gradient Boost');"
   ]
  },
  {
   "cell_type": "markdown",
   "metadata": {},
   "source": [
    "### Conclusion"
   ]
  },
  {
   "cell_type": "markdown",
   "metadata": {},
   "source": [
    "The Boosting and Random Forest classifiers do a great job classifying the ratings with bag of words methods and simple count vectorizing. The major reason for this is that the sentiment of a text is mostly recognized by certain words better than by any long sequence of words. This can be seen as we try to use bag of bi-grams which lowers the accuracy of the model.\n",
    "\n",
    "It would be very interesting to analyze the review by clustering algorithms such topic modeling and perhaps Kmeans. Clustering will help to predict not only the sentiment of the review but also to specify the product name and by that making recommendation to the customer."
   ]
  },
  {
   "cell_type": "code",
   "execution_count": null,
   "metadata": {
    "collapsed": true
   },
   "outputs": [],
   "source": []
  }
 ],
 "metadata": {
  "kernelspec": {
   "display_name": "Python [Root]",
   "language": "python",
   "name": "Python [Root]"
  },
  "language_info": {
   "codemirror_mode": {
    "name": "ipython",
    "version": 3
   },
   "file_extension": ".py",
   "mimetype": "text/x-python",
   "name": "python",
   "nbconvert_exporter": "python",
   "pygments_lexer": "ipython3",
   "version": "3.5.2"
  }
 },
 "nbformat": 4,
 "nbformat_minor": 0
}
