{
 "cells": [
  {
   "cell_type": "code",
   "execution_count": 1,
   "metadata": {
    "collapsed": false
   },
   "outputs": [
    {
     "name": "stdout",
     "output_type": "stream",
     "text": [
      "Populating the interactive namespace from numpy and matplotlib\n"
     ]
    }
   ],
   "source": [
    "import numpy as np\n",
    "import matplotlib.pyplot as plt\n",
    "%pylab inline\n",
    "\n",
    "from sklearn.model_selection import KFold\n",
    "\n",
    "from nltk.corpus import stopwords\n",
    "from textblob import TextBlob\n",
    "\n",
    "\n",
    "from sklearn.feature_extraction.text import CountVectorizer\n",
    "from collections import defaultdict\n",
    "\n",
    "\n",
    "\n",
    "from sklearn.naive_bayes import MultinomialNB\n",
    "from sklearn.ensemble import RandomForestClassifier, RandomForestRegressor\n",
    "from sklearn.ensemble import GradientBoostingClassifier\n",
    "from sklearn.ensemble import GradientBoostingRegressor\n",
    "from sklearn.neighbors import KNeighborsClassifier\n",
    "from sklearn.neighbors import KNeighborsRegressor\n",
    "\n",
    "from sklearn.model_selection import RandomizedSearchCV"
   ]
  },
  {
   "cell_type": "markdown",
   "metadata": {},
   "source": [
    "# Rating Learning and Prediction for Amazon Product Reviews\n",
    "\n",
    "## Bahman Roostaei\n",
    "\n",
    "$\\textit{December 2016, Galvanize , San Fransisco.} $"
   ]
  },
  {
   "cell_type": "markdown",
   "metadata": {},
   "source": [
    "In this project we use the reviews of various products submitted by Amazon.com customers to understand the models that can best predict (classify) the ratings. Understanding the ratings that a given text indicates helps for businesses to ultimately be able to collect the most relevant and most helpful reviews to their products. \n",
    "\n",
    "The data are obtained from [here](http://www.cs.jhu.edu/~mdredze/datasets/sentiment/). The data includes about more than a 1000 review text for products like DVD's and Books and Kitchen tools. The data have been mostly cleaned and processed into dictionary of bi-grams. We reprocess the data and convert it to token sets as well and analyze both the tokens and also the original format. \n",
    "\n",
    "We first use classification models and calculate the accuracy score and present the confusion matrix. Since this is a multiclass classification we group the ratings that are close to each other (4 and 5) and (1,2). Note that there is no rating 3 option (see below for the histogram of labels). We then use regressor models to be able to analyze the model by ROC curve."
   ]
  },
  {
   "cell_type": "code",
   "execution_count": 2,
   "metadata": {
    "collapsed": false
   },
   "outputs": [],
   "source": [
    "class review_analysis(object):\n",
    "    \n",
    "    def __init__(self,product_name,filename):\n",
    "        # instanciate the class by giving the product name or the filename in which\n",
    "        # the train and test files are.\n",
    "        self.product_name = product_name\n",
    "        self.filename = filename\n",
    "        \n",
    "    def read(self):\n",
    "        \n",
    "        # read the Amazon processed files.\n",
    "        \n",
    "        with open(self.product_name+'/'+self.filename) as f:\n",
    "            self._data = f.readlines()\n",
    "    \n",
    "        \n",
    "    \n",
    "    def process(self,pure_token = False):\n",
    "         \n",
    "        # if pure_token = True returns a lisr of single strings each containing all the \n",
    "        # tokens (no underscores) repeated in the same number as original review \n",
    "        # but stop words removed.\n",
    "        # In all cases it returns the labels as well.\n",
    "        \n",
    "        self._pure_token = pure_token\n",
    "        data = self._data\n",
    "        X = [] # X is list of dictionaries (or processed reviewes) in the selected product name.\n",
    "            \n",
    "        y = [] # y corresponds to the labels.\n",
    "        \n",
    "        for rev in data: \n",
    "            rev_dict = defaultdict(int)\n",
    "            for W in rev.split()[:-1:]:\n",
    "                key= W.split(':')[0]\n",
    "                value = int(W.split(':')[1]) \n",
    "                rev_dict[key] = value\n",
    "                \n",
    "            X.append(rev_dict)\n",
    "            label = rev.split()[-1].split(':')[1]\n",
    "            y.append(float(label))\n",
    "    \n",
    "        if pure_token:\n",
    "            stop_words = stopwords.words('English')\n",
    "            review_nostop = []\n",
    "            for review in X:\n",
    "                tokens = []\n",
    "                for key,value in review.items():\n",
    "                    key_split = key.split('_')\n",
    "                    for elem in key_split:\n",
    "                        if elem not in stop_words:\n",
    "                            for _ in range(value):\n",
    "                                tokens.append(elem)\n",
    "                review_nostop.append(' '.join(tokens))\n",
    "    \n",
    "            return review_nostop,y\n",
    "        else:\n",
    "            return X,y"
   ]
  },
  {
   "cell_type": "markdown",
   "metadata": {},
   "source": [
    "### Part 1. Data"
   ]
  },
  {
   "cell_type": "markdown",
   "metadata": {},
   "source": [
    "Data have been provided as dictionary of joined tokens (bag of bi-grams) for each review. Here we reprocess the data and convert them to a document with $\\textit{only tokens with stop words removed}$ as reflected in dictionaries with the corresponding number of times it is repeated. "
   ]
  },
  {
   "cell_type": "markdown",
   "metadata": {},
   "source": [
    "We start with the book review and their star ratings:"
   ]
  },
  {
   "cell_type": "code",
   "execution_count": 3,
   "metadata": {
    "collapsed": false
   },
   "outputs": [],
   "source": [
    "rva = review_analysis('books','train')\n",
    "rva.read()\n",
    "X,y = rva.process(pure_token=True)"
   ]
  },
  {
   "cell_type": "code",
   "execution_count": 4,
   "metadata": {
    "collapsed": true
   },
   "outputs": [],
   "source": [
    "rva_test = review_analysis('books','test')\n",
    "rva_test.read()\n",
    "X_test_original,y_test_original = rva.process(pure_token=True)"
   ]
  },
  {
   "cell_type": "markdown",
   "metadata": {},
   "source": [
    "Here is a sample of the review generated after processing. This set of tokens are not in the human meaningful order."
   ]
  },
  {
   "cell_type": "code",
   "execution_count": 5,
   "metadata": {
    "collapsed": false
   },
   "outputs": [
    {
     "data": {
      "text/plain": [
       "\"field school type shadows law clerk law law law law professionals guy becomes shadows waste professional money law guy become law professional everyone professionals law six-figure-paid professionals lawyer type clerk lawyer right even money law school aren't money even everyone becomes understand book aren't right becomes law field book book guy book book book ridiculous type become become law school lawyer new people everyone want understand law wants professional people give field six-figure-paid lawyer give aren't new understand lawyer lawyer wants ridiculous six-figure-paid clerk give break want shadows break people want even waste right wants ridiculous\""
      ]
     },
     "execution_count": 5,
     "metadata": {},
     "output_type": "execute_result"
    }
   ],
   "source": [
    "X[0]"
   ]
  },
  {
   "cell_type": "markdown",
   "metadata": {},
   "source": [
    "The ratings are balanced:"
   ]
  },
  {
   "cell_type": "code",
   "execution_count": 6,
   "metadata": {
    "collapsed": false
   },
   "outputs": [
    {
     "data": {
      "image/png": "[encoded data removed]",
      "text/plain": [
       "<matplotlib.figure.Figure at 0x1112d81d0>"
      ]
     },
     "metadata": {},
     "output_type": "display_data"
    }
   ],
   "source": [
    "plt.hist(y)\n",
    "plt.xlabel('Ratings')\n",
    "plt.title('Training Rate Distribution');"
   ]
  },
  {
   "cell_type": "markdown",
   "metadata": {},
   "source": [
    "We also can analyze the polarity distribution of the documents and investigate how they are related to the ratings. We use TextBlob:"
   ]
  },
  {
   "cell_type": "code",
   "execution_count": 350,
   "metadata": {
    "collapsed": true
   },
   "outputs": [],
   "source": [
    "polarity = []\n",
    "for i in range(len(y)):\n",
    "    blob = TextBlob(X[i])\n",
    "    polarity.append(blob.polarity)"
   ]
  },
  {
   "cell_type": "code",
   "execution_count": 351,
   "metadata": {
    "collapsed": false
   },
   "outputs": [
    {
     "data": {
      "image/png": "[encoded data removed]",
      "text/plain": [
       "<matplotlib.figure.Figure at 0x115757eb8>"
      ]
     },
     "metadata": {},
     "output_type": "display_data"
    }
   ],
   "source": [
    "plt.scatter(polarity,y)\n",
    "plt.xlabel('TextBlob Polarity')\n",
    "plt.ylabel('Customer Rating')\n",
    "plt.title('Comparison of Polarity and Ratings');"
   ]
  },
  {
   "cell_type": "markdown",
   "metadata": {},
   "source": [
    "From the above we observe that the extreme ratings (1,5) cover wider range of polarities."
   ]
  },
  {
   "cell_type": "markdown",
   "metadata": {},
   "source": [
    "## vocabulary:"
   ]
  },
  {
   "cell_type": "markdown",
   "metadata": {},
   "source": [
    "The vocabulary size can be found using the vecorizer:"
   ]
  },
  {
   "cell_type": "code",
   "execution_count": 7,
   "metadata": {
    "collapsed": true
   },
   "outputs": [],
   "source": [
    "vectorizer_c = CountVectorizer(min_df=1)\n",
    "vec_train = vectorizer_c.fit_transform(X)"
   ]
  },
  {
   "cell_type": "code",
   "execution_count": 9,
   "metadata": {
    "collapsed": false
   },
   "outputs": [],
   "source": [
    "# vocabulary:\n",
    "vocab  = vectorizer_c.vocabulary_"
   ]
  },
  {
   "cell_type": "code",
   "execution_count": 20,
   "metadata": {
    "collapsed": false
   },
   "outputs": [],
   "source": [
    "# list of all vocabulary with stop words removed.\n",
    "words = vocab.keys()"
   ]
  },
  {
   "cell_type": "code",
   "execution_count": 21,
   "metadata": {
    "collapsed": false
   },
   "outputs": [
    {
     "data": {
      "text/plain": [
       "15923"
      ]
     },
     "execution_count": 21,
     "metadata": {},
     "output_type": "execute_result"
    }
   ],
   "source": [
    "# size of vocabulary with stop words removed:\n",
    "len(words)"
   ]
  }
 ],
 "metadata": {
  "kernelspec": {
   "display_name": "Python [Root]",
   "language": "python",
   "name": "Python [Root]"
  },
  "language_info": {
   "codemirror_mode": {
    "name": "ipython",
    "version": 3
   },
   "file_extension": ".py",
   "mimetype": "text/x-python",
   "name": "python",
   "nbconvert_exporter": "python",
   "pygments_lexer": "ipython3",
   "version": "3.5.2"
  }
 },
 "nbformat": 4,
 "nbformat_minor": 0
}
